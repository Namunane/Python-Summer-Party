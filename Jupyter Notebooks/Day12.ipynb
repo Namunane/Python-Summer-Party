{
 "cells": [
  {
   "cell_type": "code",
   "execution_count": null,
   "id": "f6150532",
   "metadata": {},
   "outputs": [],
   "source": [
    "'''\n",
    "Project Overview[Walmart: E-commerce Returns Customer Segmentation Model]:\n",
    "\n",
    "Goals:To develop a predictive approach to understanding customer return behaviors across different time periods\n",
    "To leverage transaction data to create a comprehensive view of customer return likelihood....\n",
    "\n",
    "'''"
   ]
  },
  {
   "cell_type": "code",
   "execution_count": 2,
   "id": "54b402f0",
   "metadata": {},
   "outputs": [],
   "source": [
    "# Importing necessary libraries for analysis\n",
    "import pandas as pd\n",
    "import numpy as np\n",
    "import matplotlib.pyplot as plt\n",
    "import seaborn as sns"
   ]
  },
  {
   "cell_type": "code",
   "execution_count": 3,
   "id": "00476846",
   "metadata": {},
   "outputs": [
    {
     "name": "stdout",
     "output_type": "stream",
     "text": [
      "  order_id  order_date customer_id  return_flag  order_amount\n",
      "0  ORD0001    7/5/2024     CUST001         True         120.5\n",
      "1  ORD0002   7/10/2024     CUST002        False          75.0\n",
      "2  ORD0003   8/15/2024     CUST001         True          90.0\n",
      "3  ORD0004    9/1/2024     CUST003        False          45.0\n",
      "4  ORD0005  10/20/2024     CUST004         True         200.0\n",
      "5  ORD0006  11/11/2024     CUST002         True           NaN\n",
      "6  ORD0007  11/15/2024     CUST005        False          60.0\n",
      "7  ORD0008   12/5/2024     CUST006         True         150.0\n",
      "8  ORD0009  12/25/2024     CUST007        False          85.0\n",
      "9  ORD0010   1/10/2025     CUST001         True         130.0\n",
      "['order_id', 'order_date', 'customer_id', 'return_flag', 'order_amount']\n",
      "Number of rows and columns is: (58, 5)\n"
     ]
    }
   ],
   "source": [
    "# Getting the Dataset\n",
    "customer_returns = pd.read_csv(r'D:\\Data Journey\\Python-Summer-Party\\DataSets\\customer_returns.csv')\n",
    "\n",
    "# Display the first few rows to understand the data\n",
    "print(customer_returns.head(10))  # Shows the first 5 rows with columns\n",
    "print(list(customer_returns.columns))\n",
    "print('Number of rows and columns is:', customer_returns.shape)"
   ]
  },
  {
   "cell_type": "code",
   "execution_count": 13,
   "id": "f984e22e",
   "metadata": {},
   "outputs": [
    {
     "name": "stdout",
     "output_type": "stream",
     "text": [
      "Unique customer IDs who made returns:\n",
      "['CUST001' 'CUST004' 'CUST002' 'CUST006' 'CUST009' 'CUST005' 'CUST003'\n",
      " 'CUST007']\n"
     ]
    }
   ],
   "source": [
    "# Question One\n",
    "# Unique customer IDs who have made returns between July 1st 2024 and June 30th 2025\n",
    "# 0. Converting to datetime format\n",
    "customer_returns['order_date'] = pd.to_datetime(customer_returns['order_date'], errors='coerce')\n",
    "customer_returns = customer_returns.dropna(subset=['order_date'])\n",
    "\n",
    "# 1. Filtering for July 1st 2024 & June 30th 2025\n",
    "July2024_June2025_trxn = customer_returns [(customer_returns['order_date'] >= '2024-07-01') & (customer_returns['order_date'] <= '2025-06-30') &(customer_returns['return_flag'] == True)]\n",
    "\n",
    "# 2. Get unique customer IDs\n",
    "unique_customer_ids = July2024_June2025_trxn ['customer_id'].unique()\n",
    "\n",
    "print(\"Unique customer IDs who made returns:\")\n",
    "print(unique_customer_ids)"
   ]
  },
  {
   "cell_type": "code",
   "execution_count": null,
   "id": "a7702282",
   "metadata": {},
   "outputs": [
    {
     "name": "stdout",
     "output_type": "stream",
     "text": [
      "  customer_id  month  return_count\n",
      "0     CUST001      1             2\n",
      "1     CUST001      3             1\n",
      "2     CUST001      6             1\n",
      "3     CUST001      7             2\n",
      "4     CUST001      8             1\n"
     ]
    }
   ],
   "source": [
    "# Question Two\n",
    "# 1. Convert 'order_date' to datetime\n",
    "customer_returns['order_date'] = pd.to_datetime(customer_returns['order_date'], errors='coerce')\n",
    "\n",
    "# 2. Set a MultiIndex using 'customer_id' and 'order_date'\n",
    "customer_returns_multi = customer_returns.set_index(['customer_id', 'order_date'])\n",
    "\n",
    "# 3. Extract month from the order_date (we can access it even in the MultiIndex)\n",
    "customer_returns_multi['month'] = customer_returns_multi.index.get_level_values('order_date').month\n",
    "\n",
    "# 4. Filter only rows where return_flag is True\n",
    "returns_only = customer_returns_multi[customer_returns_multi['return_flag'] == True]\n",
    "\n",
    "# 5. Group by customer and month, and count number of returns\n",
    "grouped = returns_only.groupby(['customer_id', 'month']).size().reset_index(name='return_count')\n",
    "\n",
    "print(grouped.head())\n"
   ]
  },
  {
   "cell_type": "code",
   "execution_count": null,
   "id": "27c6ad88",
   "metadata": {},
   "outputs": [],
   "source": []
  }
 ],
 "metadata": {
  "kernelspec": {
   "display_name": "Python (Arewadatascience)",
   "language": "python",
   "name": "arewadatascience"
  },
  "language_info": {
   "codemirror_mode": {
    "name": "ipython",
    "version": 3
   },
   "file_extension": ".py",
   "mimetype": "text/x-python",
   "name": "python",
   "nbconvert_exporter": "python",
   "pygments_lexer": "ipython3",
   "version": "3.12.7"
  }
 },
 "nbformat": 4,
 "nbformat_minor": 5
}
