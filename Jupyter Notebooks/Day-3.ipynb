{
 "cells": [
  {
   "cell_type": "code",
   "execution_count": 1,
   "id": "b4d54bab",
   "metadata": {},
   "outputs": [
    {
     "data": {
      "text/plain": [
       "'\\nProject Overview:\\nThis project supports the Disney Parks Revenue Team by analyzing guest spending \\nbehavior across different park experiences. As a data analyst, the goal is to \\nderive actionable insights that reveal nuanced visitor purchasing patterns.\\n\\n'"
      ]
     },
     "execution_count": 1,
     "metadata": {},
     "output_type": "execute_result"
    }
   ],
   "source": [
    "'''\n",
    "Project Overview:\n",
    "This project supports the Disney Parks Revenue Team by analyzing guest spending \n",
    "behavior across different park experiences. As a data analyst, the goal is to \n",
    "derive actionable insights that reveal nuanced visitor purchasing patterns.\n",
    "\n",
    "'''"
   ]
  },
  {
   "cell_type": "code",
   "execution_count": 2,
   "id": "bf9d735e",
   "metadata": {},
   "outputs": [],
   "source": [
    "# Importing necessary libraries for analysis\n",
    "import pandas as pd\n",
    "import matplotlib.pyplot as plt\n",
    "import seaborn as sns\n",
    "from datetime import date"
   ]
  },
  {
   "cell_type": "code",
   "execution_count": 5,
   "id": "e89aa01e",
   "metadata": {},
   "outputs": [
    {
     "name": "stdout",
     "output_type": "stream",
     "text": [
      "   guest_id visit_date  amount_spent park_experience_type\n",
      "0         1   7/5/2024          50.0           Attraction\n",
      "1         2   7/6/2024          30.0               Dining\n",
      "2         3  7/10/2024          20.5               Retail\n",
      "3         4  7/12/2024          40.0        Entertainment\n",
      "4         1  7/15/2024          35.0               Dining\n",
      "5         5  7/20/2024          60.0           Attraction\n",
      "6         6  7/25/2024          25.0               Retail\n",
      "7         1   8/3/2024          55.0           Attraction\n",
      "8         1  8/15/2024          45.0               Dining\n",
      "9         2   8/5/2024          22.0               Retail\n",
      "['guest_id', 'visit_date', 'amount_spent', 'park_experience_type']\n",
      "Number of rows and columns is: (18, 4)\n"
     ]
    }
   ],
   "source": [
    "# Getting the Dataset\n",
    "fct_guest_spending = pd.read_csv(r'D:\\Data Journey\\Python-Summer-Party\\DataSets\\fct_guest_spending.csv')\n",
    "\n",
    "# Display the first few rows to understand the data\n",
    "print(fct_guest_spending.head(10))  # Shows the first 5 rows with columns\n",
    "print(list(fct_guest_spending.columns))\n",
    "print('Number of rows and columns is:', fct_guest_spending.shape)"
   ]
  },
  {
   "cell_type": "code",
   "execution_count": 6,
   "id": "b0ac906c",
   "metadata": {},
   "outputs": [
    {
     "name": "stdout",
     "output_type": "stream",
     "text": [
      "Average spending per guest per visit for each park experience type (July 2024):\n",
      "park_experience_type\n",
      "Attraction        55.00\n",
      "Dining            32.50\n",
      "Retail            22.75\n",
      "Entertainment     40.00\n",
      "Character Meet     0.00\n",
      "Name: amount_spent, dtype: float64\n"
     ]
    }
   ],
   "source": [
    "# Question One:\n",
    "# Finding the average amount of money spent by park experience in July 2024\n",
    "\n",
    "# Converting the visit_date column to a datetime\n",
    "fct_guest_spending['visit_date']= pd.to_datetime(fct_guest_spending['visit_date'])\n",
    "fct_guest_spending\n",
    "\n",
    "# Subsetting for July 2024 only\n",
    "July_2024 = fct_guest_spending[(fct_guest_spending['visit_date'].dt.year == 2024) & (fct_guest_spending['visit_date'].dt.month == 7)]\n",
    "July_2024\n",
    "\n",
    "# Get all possible park experience types from the full dataset\n",
    "all_experience_types = fct_guest_spending['park_experience_type'].unique()\n",
    "\n",
    "# Calculating money spent by park experience type.\n",
    "money_by_park_experience = July_2024.groupby('park_experience_type')['amount_spent'].mean()\n",
    "\n",
    "# Reindex to include all experience types, filling missing ones with 0.0\n",
    "money_by_park_experience = money_by_park_experience.reindex(all_experience_types, fill_value=0.0)\n",
    "\n",
    "print(\"Average spending per guest per visit for each park experience type (July 2024):\")\n",
    "print(money_by_park_experience)"
   ]
  },
  {
   "cell_type": "code",
   "execution_count": 7,
   "id": "655ae2f0",
   "metadata": {},
   "outputs": [
    {
     "name": "stdout",
     "output_type": "stream",
     "text": [
      "guest_id\n",
      "1   -10.0\n",
      "2    16.0\n",
      "3     4.0\n",
      "Name: amount_spent, dtype: float64\n"
     ]
    }
   ],
   "source": [
    "# Question Two\n",
    "# For guests who visited our parks more than once in August 2024, \n",
    "# what is the difference in spending between their first and their last visit? \n",
    "\n",
    "# Subsetting for August 2024 only\n",
    "August_2024 = fct_guest_spending[(fct_guest_spending['visit_date'].dt.year == 2024) & (fct_guest_spending['visit_date'].dt.month == 8)]\n",
    "visit_counts = August_2024['guest_id'].value_counts()\n",
    "multi_visitors = visit_counts[visit_counts > 1].index\n",
    "\n",
    "# Filter for only those guests\n",
    "multi_visits = August_2024[August_2024['guest_id'].isin(multi_visitors)].copy()\n",
    "\n",
    "# Sort by guest and visit date\n",
    "multi_visits.sort_values(['guest_id', 'visit_date'], inplace=True)\n",
    "\n",
    "# Get first and last visit spending for each guest\n",
    "first_visits = multi_visits.groupby('guest_id').first()['amount_spent']\n",
    "last_visits = multi_visits.groupby('guest_id').last()['amount_spent']\n",
    "\n",
    "# Calculate difference\n",
    "spending_diff = last_visits - first_visits\n",
    "\n",
    "print(spending_diff)"
   ]
  },
  {
   "cell_type": "code",
   "execution_count": 8,
   "id": "6cd060e8",
   "metadata": {},
   "outputs": [
    {
     "data": {
      "text/html": [
       "<div>\n",
       "<style scoped>\n",
       "    .dataframe tbody tr th:only-of-type {\n",
       "        vertical-align: middle;\n",
       "    }\n",
       "\n",
       "    .dataframe tbody tr th {\n",
       "        vertical-align: top;\n",
       "    }\n",
       "\n",
       "    .dataframe thead th {\n",
       "        text-align: right;\n",
       "    }\n",
       "</style>\n",
       "<table border=\"1\" class=\"dataframe\">\n",
       "  <thead>\n",
       "    <tr style=\"text-align: right;\">\n",
       "      <th></th>\n",
       "      <th>guest_id</th>\n",
       "      <th>amount_spent</th>\n",
       "      <th>Spending_segment</th>\n",
       "    </tr>\n",
       "  </thead>\n",
       "  <tbody>\n",
       "    <tr>\n",
       "      <th>0</th>\n",
       "      <td>1</td>\n",
       "      <td>65.0</td>\n",
       "      <td>Medium</td>\n",
       "    </tr>\n",
       "    <tr>\n",
       "      <th>1</th>\n",
       "      <td>8</td>\n",
       "      <td>50.0</td>\n",
       "      <td>Medium</td>\n",
       "    </tr>\n",
       "    <tr>\n",
       "      <th>2</th>\n",
       "      <td>9</td>\n",
       "      <td>40.0</td>\n",
       "      <td>Low</td>\n",
       "    </tr>\n",
       "    <tr>\n",
       "      <th>3</th>\n",
       "      <td>10</td>\n",
       "      <td>70.0</td>\n",
       "      <td>Medium</td>\n",
       "    </tr>\n",
       "  </tbody>\n",
       "</table>\n",
       "</div>"
      ],
      "text/plain": [
       "   guest_id  amount_spent Spending_segment\n",
       "0         1          65.0           Medium\n",
       "1         8          50.0           Medium\n",
       "2         9          40.0              Low\n",
       "3        10          70.0           Medium"
      ]
     },
     "execution_count": 8,
     "metadata": {},
     "output_type": "execute_result"
    }
   ],
   "source": [
    "# Question 3\n",
    "# Categorizing guests' spending in September 2024 into low[<$50], medium[$50 < $100] & high[$100 >]\n",
    "\n",
    "# Segmenting guests for September only\n",
    "Sept_2024 = fct_guest_spending[\n",
    "    (fct_guest_spending['visit_date'].dt.year == 2024) &\n",
    "    (fct_guest_spending['visit_date'].dt.month == 9)\n",
    "]\n",
    "\n",
    "# Grouping by guest_id to get total amount of money spent by each guest in September\n",
    "Sept_spending = Sept_2024.groupby('guest_id')['amount_spent'].sum().reset_index()\n",
    "\n",
    "# Exclude guests who did not make any purchases (amount_spent == 0)\n",
    "Sept_spending = Sept_spending[Sept_spending['amount_spent'] > 0]\n",
    "\n",
    "# Categorizing spending into segments with correct boundaries:\n",
    "# Low: $0 <= x < $50, Medium: $50 <= x < $100, High: $100 and above\n",
    "Sept_spending['Spending_segment'] = Sept_spending['amount_spent'].apply(\n",
    "    lambda x: 'Low' if x < 50 else ('Medium' if 50 <= x < 100 else 'High')\n",
    ")\n",
    "\n",
    "Sept_spending"
   ]
  }
 ],
 "metadata": {
  "kernelspec": {
   "display_name": "Python (Arewadatascience)",
   "language": "python",
   "name": "arewadatascience"
  },
  "language_info": {
   "codemirror_mode": {
    "name": "ipython",
    "version": 3
   },
   "file_extension": ".py",
   "mimetype": "text/x-python",
   "name": "python",
   "nbconvert_exporter": "python",
   "pygments_lexer": "ipython3",
   "version": "3.12.7"
  }
 },
 "nbformat": 4,
 "nbformat_minor": 5
}
