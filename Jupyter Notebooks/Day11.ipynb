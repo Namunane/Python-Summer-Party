{
 "cells": [
  {
   "cell_type": "code",
   "execution_count": null,
   "id": "fa791f05",
   "metadata": {},
   "outputs": [],
   "source": [
    "'''\n",
    "Project Overview[Payment Fraud Risk Detection in Online Transactions]:\n",
    "\n",
    "Goals:To investigate transaction patterns to identify potential fraud.\n",
    "To create an initial risk assessment methodology using transaction characteristics...\n",
    "\n",
    "'''"
   ]
  },
  {
   "cell_type": "code",
   "execution_count": 4,
   "id": "7bb75397",
   "metadata": {},
   "outputs": [],
   "source": [
    "# Importing necessary libraries for analysis\n",
    "import pandas as pd\n",
    "import numpy as np\n",
    "import matplotlib.pyplot as plt\n",
    "import seaborn as sns"
   ]
  },
  {
   "cell_type": "code",
   "execution_count": 5,
   "id": "a89674c0",
   "metadata": {},
   "outputs": [
    {
     "name": "stdout",
     "output_type": "stream",
     "text": [
      "         customer_email  transaction_id transaction_date  transaction_amount  \\\n",
      "0       alice@gmail.com               1        10/5/2024              120.00   \n",
      "1  bob@customdomain.com               2       10/15/2024              250.50   \n",
      "2     charlie@yahoo.com               3       10/20/2024               75.25   \n",
      "3      dana@hotmail.com               4       10/25/2024              100.00   \n",
      "4           eve@biz.org               5       10/30/2024              300.00   \n",
      "5       frank@gmail.com               6        11/3/2024              150.75   \n",
      "6     grace@outlook.com               7       11/10/2024                 NaN   \n",
      "7        ivan@yahoo.com               8       11/15/2024              200.00   \n",
      "8      judy@hotmail.com               9       11/21/2024              250.00   \n",
      "9        ken@domain.net              10       11/29/2024              300.00   \n",
      "\n",
      "   fraud_detection_score  \n",
      "0                     10  \n",
      "1                     20  \n",
      "2                     15  \n",
      "3                     30  \n",
      "4                     40  \n",
      "5                     25  \n",
      "6                     50  \n",
      "7                     35  \n",
      "8                     45  \n",
      "9                     55  \n",
      "['customer_email', 'transaction_id', 'transaction_date', 'transaction_amount', 'fraud_detection_score']\n",
      "Number of rows and columns is: (12, 5)\n"
     ]
    }
   ],
   "source": [
    "# Getting the Dataset\n",
    "fct_transactions= pd.read_csv(r'D:\\Data Journey\\Python-Summer-Party\\DataSets\\fct_transactions1.csv')\n",
    "\n",
    "# Display the first few rows to understand the data\n",
    "print(fct_transactions.head(10))  # Shows the first 5 rows with columns\n",
    "print(list(fct_transactions.columns))\n",
    "print('Number of rows and columns is:', fct_transactions.shape)"
   ]
  },
  {
   "cell_type": "code",
   "execution_count": 22,
   "id": "18c438a7",
   "metadata": {},
   "outputs": [
    {
     "name": "stdout",
     "output_type": "stream",
     "text": [
      "Number of transactions in October 2024 with unaccepted domains: 2\n"
     ]
    }
   ],
   "source": [
    "# Question One\n",
    "# Transactions in October 2024 have a customer email ending with a domain other than 'gmail.com', 'yahoo.com', or 'hotmail.com'\n",
    "# 0. Changing the transaction date to appropriate date column\n",
    "fct_transactions['transaction_date']= pd.to_datetime(fct_transactions['transaction_date'])\n",
    "# Subsetting for July 2024 only\n",
    "trxn_Oct_2024 = fct_transactions[(fct_transactions['transaction_date'].dt.year == 2024) & (fct_transactions['transaction_date'].dt.month == 10)]\n",
    "# Make sure you're working on a copy, not a slice\n",
    "trxn_Oct_2024 = trxn_Oct_2024.copy()\n",
    "accepted_domains = ['gmail.com', 'yahoo.com', 'hotmail.com']\n",
    "# Extract domain from email\n",
    "trxn_Oct_2024['email_domain'] = trxn_Oct_2024['customer_email'].str.split('@').str[-1]\n",
    "\n",
    "# Check if domain is in the accepted list\n",
    "trxn_Oct_2024['is_accepted'] = trxn_Oct_2024['email_domain'].isin(accepted_domains)\n",
    "\n",
    "# Count transactions with unaccepted domains\n",
    "unaccepted_count = (~trxn_Oct_2024['is_accepted']).sum()\n",
    "\n",
    "print(f\"Number of transactions in October 2024 with unaccepted domains: {unaccepted_count}\")\n"
   ]
  }
 ],
 "metadata": {
  "kernelspec": {
   "display_name": "Python (Arewadatascience)",
   "language": "python",
   "name": "arewadatascience"
  },
  "language_info": {
   "codemirror_mode": {
    "name": "ipython",
    "version": 3
   },
   "file_extension": ".py",
   "mimetype": "text/x-python",
   "name": "python",
   "nbconvert_exporter": "python",
   "pygments_lexer": "ipython3",
   "version": "3.12.7"
  }
 },
 "nbformat": 4,
 "nbformat_minor": 5
}
