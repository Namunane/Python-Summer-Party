{
 "cells": [
  {
   "cell_type": "code",
   "execution_count": null,
   "id": "fa791f05",
   "metadata": {},
   "outputs": [],
   "source": [
    "'''\n",
    "Project Overview[Payment Fraud Risk Detection in Online Transactions]:\n",
    "\n",
    "Goals:To investigate transaction patterns to identify potential fraud.\n",
    "To create an initial risk assessment methodology using transaction characteristics...\n",
    "\n",
    "'''"
   ]
  },
  {
   "cell_type": "code",
   "execution_count": 4,
   "id": "7bb75397",
   "metadata": {},
   "outputs": [],
   "source": [
    "# Importing necessary libraries for analysis\n",
    "import pandas as pd\n",
    "import numpy as np\n",
    "import matplotlib.pyplot as plt\n",
    "import seaborn as sns"
   ]
  },
  {
   "cell_type": "code",
   "execution_count": 5,
   "id": "a89674c0",
   "metadata": {},
   "outputs": [
    {
     "name": "stdout",
     "output_type": "stream",
     "text": [
      "         customer_email  transaction_id transaction_date  transaction_amount  \\\n",
      "0       alice@gmail.com               1        10/5/2024              120.00   \n",
      "1  bob@customdomain.com               2       10/15/2024              250.50   \n",
      "2     charlie@yahoo.com               3       10/20/2024               75.25   \n",
      "3      dana@hotmail.com               4       10/25/2024              100.00   \n",
      "4           eve@biz.org               5       10/30/2024              300.00   \n",
      "5       frank@gmail.com               6        11/3/2024              150.75   \n",
      "6     grace@outlook.com               7       11/10/2024                 NaN   \n",
      "7        ivan@yahoo.com               8       11/15/2024              200.00   \n",
      "8      judy@hotmail.com               9       11/21/2024              250.00   \n",
      "9        ken@domain.net              10       11/29/2024              300.00   \n",
      "\n",
      "   fraud_detection_score  \n",
      "0                     10  \n",
      "1                     20  \n",
      "2                     15  \n",
      "3                     30  \n",
      "4                     40  \n",
      "5                     25  \n",
      "6                     50  \n",
      "7                     35  \n",
      "8                     45  \n",
      "9                     55  \n",
      "['customer_email', 'transaction_id', 'transaction_date', 'transaction_amount', 'fraud_detection_score']\n",
      "Number of rows and columns is: (12, 5)\n"
     ]
    }
   ],
   "source": [
    "# Getting the Dataset\n",
    "fct_transactions= pd.read_csv(r'D:\\Data Journey\\Python-Summer-Party\\DataSets\\fct_transactions1.csv')\n",
    "\n",
    "# Display the first few rows to understand the data\n",
    "print(fct_transactions.head(10))  # Shows the first 5 rows with columns\n",
    "print(list(fct_transactions.columns))\n",
    "print('Number of rows and columns is:', fct_transactions.shape)"
   ]
  },
  {
   "cell_type": "code",
   "execution_count": null,
   "id": "18c438a7",
   "metadata": {},
   "outputs": [
    {
     "name": "stdout",
     "output_type": "stream",
     "text": [
      "Number of transactions in October 2024 with unaccepted domains: 2\n"
     ]
    }
   ],
   "source": [
    "# Question One\n",
    "# Transactions in October 2024 have a customer email ending with a domain other than 'gmail.com', 'yahoo.com', or 'hotmail.com'\n",
    "# 0. Changing the transaction date to appropriate date column\n",
    "fct_transactions['transaction_date']= pd.to_datetime(fct_transactions['transaction_date'])\n",
    "# Subsetting for July 2024 only\n",
    "trxn_Oct_2024 = fct_transactions[(fct_transactions['transaction_date'].dt.year == 2024) & (fct_transactions['transaction_date'].dt.month == 10)]\n",
    "# Make sure you're working on a copy, not a slice\n",
    "trxn_Oct_2024 = trxn_Oct_2024.copy()\n",
    "accepted_domains = ['gmail.com', 'yahoo.com', 'hotmail.com']\n",
    "# Extract domain from email\n",
    "trxn_Oct_2024['email_domain'] = trxn_Oct_2024['customer_email'].str.split('@').str[-1]\n",
    "\n",
    "# Check if domain is in the accepted list\n",
    "trxn_Oct_2024['is_accepted'] = trxn_Oct_2024['email_domain'].isin(accepted_domains)\n",
    "\n",
    "# Count transactions with unaccepted domains\n",
    "unaccepted_count = (~trxn_Oct_2024['is_accepted']).sum()\n",
    "\n",
    "print(f\"Number of transactions in October 2024 with unaccepted domains: {unaccepted_count}\")\n"
   ]
  },
  {
   "cell_type": "code",
   "execution_count": null,
   "id": "708f25fa",
   "metadata": {},
   "outputs": [
    {
     "name": "stdout",
     "output_type": "stream",
     "text": [
      "180.15\n"
     ]
    }
   ],
   "source": [
    "# Question Two\n",
    "# Average transaction amount for transactions occurring in November 2024\n",
    "trxn_Nov_2024 = fct_transactions[(fct_transactions['transaction_date'].dt.year == 2024) & (fct_transactions['transaction_date'].dt.month == 11)]\n",
    "\n",
    "# Cleaning transaction amount column\n",
    "trxn_Nov_2024_cleaned = trxn_Nov_2024['transaction_amount'].fillna(0).mean()\n",
    "print(trxn_Nov_2024_cleaned)"
   ]
  },
  {
   "cell_type": "code",
   "execution_count": 36,
   "id": "8d58b014",
   "metadata": {},
   "outputs": [
    {
     "name": "stdout",
     "output_type": "stream",
     "text": [
      "day_of_week\n",
      "Monday     1\n",
      "Tuesday    1\n",
      "Name: count, dtype: int64\n",
      "Day with the highest high-risk transactions: Monday (1 transactions)\n"
     ]
    }
   ],
   "source": [
    "# Question Three\n",
    "# 0. Merging based on transaction_id\n",
    "dim_risk_flags = pd.read_csv(r'D:\\Data Journey\\Python-Summer-Party\\DataSets\\dim_risk_flags.csv') \n",
    "merged = pd.merge(fct_transactions, dim_risk_flags, on='transaction_id')\n",
    "# 1. Filtering for only high risk\n",
    "merged_high_risk = merged[merged['risk_level'] == 'High']\n",
    "# 2. Filtering for transactions in December 2024.\n",
    "dec_high_risk = merged_high_risk[(merged_high_risk['transaction_date'].dt.year == 2024) & (merged_high_risk['transaction_date'].dt.month == 12)]\n",
    "\n",
    "# 3. Extract the day of the week as a name\n",
    "dec_high_risk['day_of_week'] = dec_high_risk['transaction_date'].dt.day_name()\n",
    "\n",
    "# 2. Count the number of high-risk transactions per day\n",
    "high_risk_counts = dec_high_risk['day_of_week'].value_counts()\n",
    "\n",
    "# 3. Find the day with the highest count\n",
    "most_high_risk_day = high_risk_counts.idxmax()\n",
    "most_high_risk_count = high_risk_counts.max()\n",
    "\n",
    "print(high_risk_counts)\n",
    "print(f\"Day with the highest high-risk transactions: {most_high_risk_day} ({most_high_risk_count} transactions)\")\n"
   ]
  },
  {
   "cell_type": "code",
   "execution_count": null,
   "id": "09a02b67",
   "metadata": {},
   "outputs": [
    {
     "name": "stderr",
     "output_type": "stream",
     "text": [
      "C:\\Users\\enock\\AppData\\Local\\Temp\\ipykernel_3064\\2610278145.py:2: SettingWithCopyWarning: \n",
      "A value is trying to be set on a copy of a slice from a DataFrame.\n",
      "Try using .loc[row_indexer,col_indexer] = value instead\n",
      "\n",
      "See the caveats in the documentation: https://pandas.pydata.org/pandas-docs/stable/user_guide/indexing.html#returning-a-view-versus-a-copy\n",
      "  merged_high_risk['transaction_date'] = pd.to_datetime(merged_high_risk['transaction_date'])\n"
     ]
    },
    {
     "data": {
      "text/html": [
       "<div>\n",
       "<style scoped>\n",
       "    .dataframe tbody tr th:only-of-type {\n",
       "        vertical-align: middle;\n",
       "    }\n",
       "\n",
       "    .dataframe tbody tr th {\n",
       "        vertical-align: top;\n",
       "    }\n",
       "\n",
       "    .dataframe thead th {\n",
       "        text-align: right;\n",
       "    }\n",
       "</style>\n",
       "<table border=\"1\" class=\"dataframe\">\n",
       "  <thead>\n",
       "    <tr style=\"text-align: right;\">\n",
       "      <th></th>\n",
       "      <th>customer_email</th>\n",
       "      <th>transaction_id</th>\n",
       "      <th>transaction_date</th>\n",
       "      <th>transaction_amount</th>\n",
       "      <th>fraud_detection_score</th>\n",
       "      <th>risk_level</th>\n",
       "      <th>risk_flag_id</th>\n",
       "    </tr>\n",
       "  </thead>\n",
       "  <tbody>\n",
       "    <tr>\n",
       "      <th>3</th>\n",
       "      <td>laura@riskmail.com</td>\n",
       "      <td>11</td>\n",
       "      <td>2024-12-02</td>\n",
       "      <td>100.0</td>\n",
       "      <td>80</td>\n",
       "      <td>High</td>\n",
       "      <td>3</td>\n",
       "    </tr>\n",
       "    <tr>\n",
       "      <th>4</th>\n",
       "      <td>mike@securepay.com</td>\n",
       "      <td>12</td>\n",
       "      <td>2024-12-03</td>\n",
       "      <td>180.0</td>\n",
       "      <td>85</td>\n",
       "      <td>High</td>\n",
       "      <td>4</td>\n",
       "    </tr>\n",
       "  </tbody>\n",
       "</table>\n",
       "</div>"
      ],
      "text/plain": [
       "       customer_email  transaction_id transaction_date  transaction_amount  \\\n",
       "3  laura@riskmail.com              11       2024-12-02               100.0   \n",
       "4  mike@securepay.com              12       2024-12-03               180.0   \n",
       "\n",
       "   fraud_detection_score risk_level  risk_flag_id  \n",
       "3                     80       High             3  \n",
       "4                     85       High             4  "
      ]
     },
     "execution_count": 33,
     "metadata": {},
     "output_type": "execute_result"
    }
   ],
   "source": [
    "\n"
   ]
  }
 ],
 "metadata": {
  "kernelspec": {
   "display_name": "Python (Arewadatascience)",
   "language": "python",
   "name": "arewadatascience"
  },
  "language_info": {
   "codemirror_mode": {
    "name": "ipython",
    "version": 3
   },
   "file_extension": ".py",
   "mimetype": "text/x-python",
   "name": "python",
   "nbconvert_exporter": "python",
   "pygments_lexer": "ipython3",
   "version": "3.12.7"
  }
 },
 "nbformat": 4,
 "nbformat_minor": 5
}
