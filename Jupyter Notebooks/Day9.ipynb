{
 "cells": [
  {
   "cell_type": "code",
   "execution_count": null,
   "id": "a4c8415d",
   "metadata": {},
   "outputs": [],
   "source": [
    "'''\n",
    "Project Overview[Instagram Stories Daily User Creation Patterns]:\n",
    "\n",
    "Goals:To understand the distribution of stories created by users daily.  \n",
    "Project involves analyzing user storytelling behavior to optimize engagement strategies.\n",
    "\n",
    "'''"
   ]
  },
  {
   "cell_type": "code",
   "execution_count": null,
   "id": "235fe3e6",
   "metadata": {},
   "outputs": [],
   "source": []
  }
 ],
 "metadata": {
  "language_info": {
   "name": "python"
  }
 },
 "nbformat": 4,
 "nbformat_minor": 5
}
