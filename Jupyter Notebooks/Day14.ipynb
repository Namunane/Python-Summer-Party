{
 "cells": [
  {
   "cell_type": "code",
   "execution_count": 1,
   "id": "9ef64731",
   "metadata": {},
   "outputs": [
    {
     "data": {
      "text/plain": [
       "\"\\nProject Overview[Starbucks:Loyalty Program's Impact on Transaction Patterns]:\\n\\nGoals:To understand how loyalty program membership influences purchasing patterns.\\nBy comparing transaction metrics between loyalty members and non-members.\\n\\n\""
      ]
     },
     "execution_count": 1,
     "metadata": {},
     "output_type": "execute_result"
    }
   ],
   "source": [
    "'''\n",
    "Project Overview[Starbucks:Loyalty Program's Impact on Transaction Patterns]:\n",
    "\n",
    "Goals:To understand how loyalty program membership influences purchasing patterns.\n",
    "By comparing transaction metrics between loyalty members and non-members.\n",
    "\n",
    "'''"
   ]
  },
  {
   "cell_type": "code",
   "execution_count": 2,
   "id": "72b9f856",
   "metadata": {},
   "outputs": [],
   "source": [
    "# Importing necessary libraries for analysis\n",
    "import pandas as pd\n",
    "import numpy as np\n",
    "import matplotlib.pyplot as plt\n",
    "import seaborn as sns"
   ]
  },
  {
   "cell_type": "code",
   "execution_count": 6,
   "id": "d9fddd66",
   "metadata": {},
   "outputs": [
    {
     "name": "stdout",
     "output_type": "stream",
     "text": [
      "   customer_id  transaction_id transaction_date  transaction_value  \\\n",
      "0            1             101         7/5/2024               5.50   \n",
      "1            1             102        7/15/2024               7.25   \n",
      "2            2             103        7/10/2024               4.00   \n",
      "3            3             104        7/20/2024               8.75   \n",
      "\n",
      "   is_loyalty_member  \n",
      "0                  1  \n",
      "1                  1  \n",
      "2                  0  \n",
      "3                  1  \n",
      "Number of rows and columns is (12, 5)\n"
     ]
    }
   ],
   "source": [
    "# Getting the Dataset\n",
    "fct_transactions2 = pd.read_csv(r'D:\\Data Journey\\Python-Summer-Party\\DataSets\\fct_transactions2.csv')\n",
    "dim_customers = pd.read_csv(r'D:\\Data Journey\\Python-Summer-Party\\DataSets\\dim_customers.csv')\n",
    "merged = pd.merge(fct_transactions2, dim_customers, on='customer_id')\n",
    "\n",
    "print(merged.head(4))\n",
    "print(f'Number of rows and columns is', merged.shape)"
   ]
  },
  {
   "cell_type": "code",
   "execution_count": 13,
   "id": "a7b9e354",
   "metadata": {},
   "outputs": [
    {
     "data": {
      "text/html": [
       "<div>\n",
       "<style scoped>\n",
       "    .dataframe tbody tr th:only-of-type {\n",
       "        vertical-align: middle;\n",
       "    }\n",
       "\n",
       "    .dataframe tbody tr th {\n",
       "        vertical-align: top;\n",
       "    }\n",
       "\n",
       "    .dataframe thead th {\n",
       "        text-align: right;\n",
       "    }\n",
       "</style>\n",
       "<table border=\"1\" class=\"dataframe\">\n",
       "  <thead>\n",
       "    <tr style=\"text-align: right;\">\n",
       "      <th></th>\n",
       "      <th>is_loyalty_member</th>\n",
       "      <th>transaction_count</th>\n",
       "    </tr>\n",
       "  </thead>\n",
       "  <tbody>\n",
       "    <tr>\n",
       "      <th>0</th>\n",
       "      <td>0</td>\n",
       "      <td>5</td>\n",
       "    </tr>\n",
       "    <tr>\n",
       "      <th>1</th>\n",
       "      <td>1</td>\n",
       "      <td>7</td>\n",
       "    </tr>\n",
       "  </tbody>\n",
       "</table>\n",
       "</div>"
      ],
      "text/plain": [
       "   is_loyalty_member  transaction_count\n",
       "0                  0                  5\n",
       "1                  1                  7"
      ]
     },
     "execution_count": 13,
     "metadata": {},
     "output_type": "execute_result"
    }
   ],
   "source": [
    "# Question One: Comparison of transaction counts between loyalty and non members for the month of July 2024\n",
    "# 0.Filtering for transactions made in July 2024\n",
    "merged['transaction_date'] = pd.to_datetime(merged['transaction_date'], errors='coerce')\n",
    "July_2024 = merged[(merged['transaction_date'].dt.year == 2024) & (merged['transaction_date'].dt.month == 7)]\n",
    "\n",
    "# 1.Filtering for non members & loyalty members\n",
    "comparative = July_2024.groupby('is_loyalty_member')['transaction_id'].count().reset_index(name='transaction_count')\n",
    "comparative.head(4)"
   ]
  },
  {
   "cell_type": "code",
   "execution_count": 20,
   "id": "4995e197",
   "metadata": {},
   "outputs": [
    {
     "name": "stdout",
     "output_type": "stream",
     "text": [
      "   is_loyalty_member  avg_transaction_value\n",
      "0                  0               4.700000\n",
      "1                  1               8.642857\n",
      "Loyalty program members have a higher average transaction value.\n"
     ]
    }
   ],
   "source": [
    "# Question Two\n",
    "# 0.Make sure transaction_value is numeric\n",
    "July_2024['transaction_value'] = pd.to_numeric(July_2024['transaction_value'], errors='coerce')\n",
    "\n",
    "# 1.Calculate average transaction value by membership\n",
    "avg_transaction_value = July_2024.groupby('is_loyalty_member')['transaction_value'].mean().reset_index(name='avg_transaction_value')\n",
    "print(avg_transaction_value)\n",
    "\n",
    "# 2.Identify which group has higher average transaction value\n",
    "if avg_transaction_value.loc[avg_transaction_value['is_loyalty_member'] == 1, 'avg_transaction_value'].values[0] > \\\n",
    "   avg_transaction_value.loc[avg_transaction_value['is_loyalty_member'] == 0, 'avg_transaction_value'].values[0]:\n",
    "    print(\"Loyalty program members have a higher average transaction value.\")\n",
    "else:\n",
    "    print(\"Non-members have a higher average transaction value.\")"
   ]
  },
  {
   "cell_type": "code",
   "execution_count": 21,
   "id": "611983eb",
   "metadata": {},
   "outputs": [
    {
     "name": "stdout",
     "output_type": "stream",
     "text": [
      "Average Loyalty Members: 8.64\n",
      "Average Non-Members: 4.70\n",
      "Percentage Difference: 83.89%\n"
     ]
    }
   ],
   "source": [
    "# Question Three\n",
    "# Calculate averages by loyalty status\n",
    "avg_values = July_2024.groupby('is_loyalty_member')['transaction_value'].mean()\n",
    "\n",
    "# Extract averages\n",
    "avg_loyalty = avg_values.get(1, 0)   # loyalty members\n",
    "avg_non = avg_values.get(0, 0)       # non-members\n",
    "\n",
    "# Calculate percentage difference (using non-members as baseline)\n",
    "if avg_non > 0:\n",
    "    pct_diff = ((avg_loyalty - avg_non) / avg_non) * 100\n",
    "else:\n",
    "    pct_diff = None  # avoid division by zero\n",
    "\n",
    "print(f\"Average Loyalty Members: {avg_loyalty:.2f}\")\n",
    "print(f\"Average Non-Members: {avg_non:.2f}\")\n",
    "print(f\"Percentage Difference: {pct_diff:.2f}%\")\n"
   ]
  }
 ],
 "metadata": {
  "kernelspec": {
   "display_name": "Python (Arewadatascience)",
   "language": "python",
   "name": "arewadatascience"
  },
  "language_info": {
   "codemirror_mode": {
    "name": "ipython",
    "version": 3
   },
   "file_extension": ".py",
   "mimetype": "text/x-python",
   "name": "python",
   "nbconvert_exporter": "python",
   "pygments_lexer": "ipython3",
   "version": "3.12.7"
  }
 },
 "nbformat": 4,
 "nbformat_minor": 5
}
