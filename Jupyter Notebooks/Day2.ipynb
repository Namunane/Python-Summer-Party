{
 "cells": [
  {
   "cell_type": "code",
   "execution_count": null,
   "id": "d90d2b8c",
   "metadata": {},
   "outputs": [
    {
     "data": {
      "text/plain": [
       "'\\nProject: Amazon Sponsored Product Ads Analysis - October 2024\\nRole: Product Analyst, Sponsored Advertising Team\\nGoal: Investigate CTR (Click-Through Rate) variations across electronics categories\\n\\n\\n'"
      ]
     },
     "execution_count": 1,
     "metadata": {},
     "output_type": "execute_result"
    }
   ],
   "source": [
    "'''\n",
    "Project: Amazon Sponsored Product Ads Analysis - October 2024\n",
    "Role: Product Analyst, Sponsored Advertising Team\n",
    "Goal: Investigate CTR (Click-Through Rate) variations across electronics categories\n",
    "\n",
    "\n",
    "'''"
   ]
  },
  {
   "cell_type": "code",
   "execution_count": 1,
   "id": "910f7bd0",
   "metadata": {},
   "outputs": [],
   "source": [
    "# Importing necessary libraries for analysis\n",
    "import pandas as pd\n",
    "import matplotlib.pyplot as plt\n",
    "import seaborn as sns\n",
    "from datetime import date"
   ]
  },
  {
   "cell_type": "code",
   "execution_count": 2,
   "id": "aec763f7",
   "metadata": {},
   "outputs": [
    {
     "name": "stdout",
     "output_type": "stream",
     "text": [
      "   product_id       product_name        product_category\n",
      "0           1           Smart TV        Home Electronics\n",
      "1           2   Wireless Earbuds   Electronics & Gadgets\n",
      "2           3       Refrigerator  Electronics Appliances\n",
      "3           4  Bestselling Novel                   Books\n",
      "4           5     Designer Jeans                 Fashion\n",
      "['product_id', 'product_name', 'product_category']\n",
      "Number of rows and columns is: (8, 3)\n",
      "   ad_id  clicks  product_id  impressions recorded_date\n",
      "0    101      10           1          200     10/2/2024\n",
      "1    102      15           1          300    10/12/2024\n",
      "2    103      20           2          250     10/5/2024\n",
      "3    104      18           2          230    10/20/2024\n",
      "4    105       5           3          150    10/15/2024\n",
      "['ad_id', 'clicks', 'product_id', 'impressions', 'recorded_date']\n",
      "Number of rows and columns is: (9, 5)\n"
     ]
    }
   ],
   "source": [
    "# Getting the first dataset\n",
    "dim_product = pd.read_csv(r'D:\\Data Journey\\Python Summer Party\\DataSets\\dim_product.csv')\n",
    "\n",
    "# Display the first few rows to understand the data\n",
    "print(dim_product.head())  # Shows the first 5 rows with columns\n",
    "print(list(dim_product.columns))\n",
    "print('Number of rows and columns is:', dim_product.shape)\n",
    "\n",
    "\n",
    "# Getting the second dataset\n",
    "fct_ad_performance = pd.read_csv(r'D:\\Data Journey\\Python Summer Party\\DataSets\\fct_ad_performance.csv')\n",
    "\n",
    "# Display the first few rows to understand the data\n",
    "print(fct_ad_performance.head())  # Shows the first 5 rows with columns\n",
    "print(list(fct_ad_performance.columns))\n",
    "print('Number of rows and columns is:', fct_ad_performance.shape)"
   ]
  },
  {
   "cell_type": "code",
   "execution_count": 6,
   "id": "ac1753fc",
   "metadata": {},
   "outputs": [
    {
     "data": {
      "text/html": [
       "<div>\n",
       "<style scoped>\n",
       "    .dataframe tbody tr th:only-of-type {\n",
       "        vertical-align: middle;\n",
       "    }\n",
       "\n",
       "    .dataframe tbody tr th {\n",
       "        vertical-align: top;\n",
       "    }\n",
       "\n",
       "    .dataframe thead th {\n",
       "        text-align: right;\n",
       "    }\n",
       "</style>\n",
       "<table border=\"1\" class=\"dataframe\">\n",
       "  <thead>\n",
       "    <tr style=\"text-align: right;\">\n",
       "      <th></th>\n",
       "      <th>product_id</th>\n",
       "      <th>product_name</th>\n",
       "      <th>product_category</th>\n",
       "      <th>ad_id</th>\n",
       "      <th>clicks</th>\n",
       "      <th>impressions</th>\n",
       "      <th>recorded_date</th>\n",
       "      <th>CTR</th>\n",
       "      <th>Is_Electronics</th>\n",
       "    </tr>\n",
       "  </thead>\n",
       "  <tbody>\n",
       "    <tr>\n",
       "      <th>0</th>\n",
       "      <td>1</td>\n",
       "      <td>Smart TV</td>\n",
       "      <td>Home Electronics</td>\n",
       "      <td>101</td>\n",
       "      <td>10</td>\n",
       "      <td>200</td>\n",
       "      <td>10/2/2024</td>\n",
       "      <td>0.050000</td>\n",
       "      <td>True</td>\n",
       "    </tr>\n",
       "    <tr>\n",
       "      <th>1</th>\n",
       "      <td>1</td>\n",
       "      <td>Smart TV</td>\n",
       "      <td>Home Electronics</td>\n",
       "      <td>102</td>\n",
       "      <td>15</td>\n",
       "      <td>300</td>\n",
       "      <td>10/12/2024</td>\n",
       "      <td>0.050000</td>\n",
       "      <td>True</td>\n",
       "    </tr>\n",
       "    <tr>\n",
       "      <th>2</th>\n",
       "      <td>2</td>\n",
       "      <td>Wireless Earbuds</td>\n",
       "      <td>Electronics &amp; Gadgets</td>\n",
       "      <td>103</td>\n",
       "      <td>20</td>\n",
       "      <td>250</td>\n",
       "      <td>10/5/2024</td>\n",
       "      <td>0.080000</td>\n",
       "      <td>True</td>\n",
       "    </tr>\n",
       "    <tr>\n",
       "      <th>3</th>\n",
       "      <td>2</td>\n",
       "      <td>Wireless Earbuds</td>\n",
       "      <td>Electronics &amp; Gadgets</td>\n",
       "      <td>104</td>\n",
       "      <td>18</td>\n",
       "      <td>230</td>\n",
       "      <td>10/20/2024</td>\n",
       "      <td>0.078261</td>\n",
       "      <td>True</td>\n",
       "    </tr>\n",
       "    <tr>\n",
       "      <th>4</th>\n",
       "      <td>3</td>\n",
       "      <td>Refrigerator</td>\n",
       "      <td>Electronics Appliances</td>\n",
       "      <td>105</td>\n",
       "      <td>5</td>\n",
       "      <td>150</td>\n",
       "      <td>10/15/2024</td>\n",
       "      <td>0.033333</td>\n",
       "      <td>True</td>\n",
       "    </tr>\n",
       "    <tr>\n",
       "      <th>5</th>\n",
       "      <td>3</td>\n",
       "      <td>Refrigerator</td>\n",
       "      <td>Electronics Appliances</td>\n",
       "      <td>106</td>\n",
       "      <td>12</td>\n",
       "      <td>180</td>\n",
       "      <td>10/25/2024</td>\n",
       "      <td>0.066667</td>\n",
       "      <td>True</td>\n",
       "    </tr>\n",
       "    <tr>\n",
       "      <th>6</th>\n",
       "      <td>4</td>\n",
       "      <td>Bestselling Novel</td>\n",
       "      <td>Books</td>\n",
       "      <td>107</td>\n",
       "      <td>50</td>\n",
       "      <td>500</td>\n",
       "      <td>10/7/2024</td>\n",
       "      <td>0.100000</td>\n",
       "      <td>False</td>\n",
       "    </tr>\n",
       "    <tr>\n",
       "      <th>7</th>\n",
       "      <td>5</td>\n",
       "      <td>Designer Jeans</td>\n",
       "      <td>Fashion</td>\n",
       "      <td>108</td>\n",
       "      <td>8</td>\n",
       "      <td>250</td>\n",
       "      <td>10/18/2024</td>\n",
       "      <td>0.032000</td>\n",
       "      <td>False</td>\n",
       "    </tr>\n",
       "    <tr>\n",
       "      <th>8</th>\n",
       "      <td>6</td>\n",
       "      <td>Blender</td>\n",
       "      <td>Kitchen</td>\n",
       "      <td>109</td>\n",
       "      <td>14</td>\n",
       "      <td>200</td>\n",
       "      <td>10/10/2024</td>\n",
       "      <td>0.070000</td>\n",
       "      <td>False</td>\n",
       "    </tr>\n",
       "  </tbody>\n",
       "</table>\n",
       "</div>"
      ],
      "text/plain": [
       "   product_id       product_name        product_category  ad_id  clicks  \\\n",
       "0           1           Smart TV        Home Electronics    101      10   \n",
       "1           1           Smart TV        Home Electronics    102      15   \n",
       "2           2   Wireless Earbuds   Electronics & Gadgets    103      20   \n",
       "3           2   Wireless Earbuds   Electronics & Gadgets    104      18   \n",
       "4           3       Refrigerator  Electronics Appliances    105       5   \n",
       "5           3       Refrigerator  Electronics Appliances    106      12   \n",
       "6           4  Bestselling Novel                   Books    107      50   \n",
       "7           5     Designer Jeans                 Fashion    108       8   \n",
       "8           6            Blender                 Kitchen    109      14   \n",
       "\n",
       "   impressions recorded_date       CTR  Is_Electronics  \n",
       "0          200     10/2/2024  0.050000            True  \n",
       "1          300    10/12/2024  0.050000            True  \n",
       "2          250     10/5/2024  0.080000            True  \n",
       "3          230    10/20/2024  0.078261            True  \n",
       "4          150    10/15/2024  0.033333            True  \n",
       "5          180    10/25/2024  0.066667            True  \n",
       "6          500     10/7/2024  0.100000           False  \n",
       "7          250    10/18/2024  0.032000           False  \n",
       "8          200    10/10/2024  0.070000           False  "
      ]
     },
     "execution_count": 6,
     "metadata": {},
     "output_type": "execute_result"
    }
   ],
   "source": [
    "# Combining the two datasets\n",
    "combined = dim_product.merge(fct_ad_performance, on ='product_id')\n",
    "combined['CTR'] = combined['clicks'] / combined['impressions']\n",
    "\n",
    "combined['Is_Electronics'] = combined['product_category'].fillna('').str.contains('Electronics', case=False)\n",
    "combined"
   ]
  },
  {
   "cell_type": "code",
   "execution_count": 7,
   "id": "d7fea6d4",
   "metadata": {},
   "outputs": [
    {
     "name": "stdout",
     "output_type": "stream",
     "text": [
      "Average CTR by Electronics Product Category in October 2024 product_category\n",
      "Electronics & Gadgets     0.07913\n",
      "Electronics Appliances    0.05000\n",
      "Home Electronics          0.05000\n",
      "Name: CTR, dtype: float64\n"
     ]
    }
   ],
   "source": [
    "# Finding the Electronics category in Oct 2024\n",
    "combined['recorded_date'] = pd.to_datetime(combined['recorded_date'])\n",
    "\n",
    "# Filter for Electronics in October 2024\n",
    "electronics_oct_2024 = combined[(combined['Is_Electronics'] == True) & (combined['recorded_date'].dt.year == 2024) &(combined['recorded_date'].dt.month == 10)]\n",
    "\n",
    "# Calculate average Click-Through Rate (CTR) for Electronics in October 2024\n",
    "# Calculate average CTR per electronics product category in October 2024\n",
    "avg_ctr_by_category = electronics_oct_2024.groupby('product_category')['CTR'].mean()\n",
    "\n",
    "# Calculate average CTR per electronics product category in October 2024\n",
    "avg_ctr_by_category = electronics_oct_2024.groupby('product_category')['CTR'].mean()\n",
    "\n",
    "print(\"Average CTR by Electronics Product Category in October 2024\", avg_ctr_by_category)"
   ]
  },
  {
   "cell_type": "code",
   "execution_count": 19,
   "id": "f63c7cff",
   "metadata": {},
   "outputs": [
    {
     "name": "stdout",
     "output_type": "stream",
     "text": [
      "0.0622512077294686\n"
     ]
    }
   ],
   "source": [
    "# Question 2:\n",
    "# Which product categories have a CTR greater than the aggregated overall average CTR for sponsored product ads during October 2024? \n",
    "# This analysis will identify high-performing categories for further optimization.  # \n",
    "# For this question, we want to calculate CTR for each ad, then get the average across ads by product category & overall.\n",
    "\n",
    "# Getting aggregated overall average CTR for sponsored product ads during October 2024\n",
    "oct_2024 = combined[(combined['recorded_date'].dt.year == 2024) &(combined['recorded_date'].dt.month == 10)]\n",
    "oct_2024\n",
    "\n",
    "\n",
    "avg_CTR = oct_2024['CTR'].mean()\n",
    "print(avg_CTR)"
   ]
  },
  {
   "cell_type": "code",
   "execution_count": 21,
   "id": "68dca918",
   "metadata": {},
   "outputs": [
    {
     "name": "stdout",
     "output_type": "stream",
     "text": [
      "Product categories with CTR greater than overall average CTR:\n",
      "product_category\n",
      "Books                    0.10000\n",
      "Electronics & Gadgets    0.07913\n",
      "Kitchen                  0.07000\n",
      "Name: CTR, dtype: float64\n"
     ]
    }
   ],
   "source": [
    "\n",
    "# Calculate average CTR per product category\n",
    "avg_ctr_by_category = oct_2024.groupby('product_category')['CTR'].mean()\n",
    "\n",
    "# Find categories where average CTR is greater than overall average CTR\n",
    "categories_above_avg = avg_ctr_by_category[avg_ctr_by_category > avg_CTR]\n",
    "\n",
    "print(\"Product categories with CTR greater than overall average CTR:\")\n",
    "print(categories_above_avg)\n",
    "\n"
   ]
  }
 ],
 "metadata": {
  "kernelspec": {
   "display_name": "Python (Arewadatascience)",
   "language": "python",
   "name": "arewadatascience"
  },
  "language_info": {
   "codemirror_mode": {
    "name": "ipython",
    "version": 3
   },
   "file_extension": ".py",
   "mimetype": "text/x-python",
   "name": "python",
   "nbconvert_exporter": "python",
   "pygments_lexer": "ipython3",
   "version": "3.12.7"
  }
 },
 "nbformat": 4,
 "nbformat_minor": 5
}
