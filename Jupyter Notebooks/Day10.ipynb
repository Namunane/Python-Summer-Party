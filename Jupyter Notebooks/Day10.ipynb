{
 "cells": [
  {
   "cell_type": "code",
   "execution_count": 1,
   "id": "87c98338",
   "metadata": {},
   "outputs": [
    {
     "data": {
      "text/plain": [
       "'\\nProject Overview[App Store Ratings Performance by App Category]:\\n\\nGoals:To clean and understand rating distributions across different app categories.  \\nThe team wants to leverage basic statistical insights to guide app performance strategies..\\n\\n'"
      ]
     },
     "execution_count": 1,
     "metadata": {},
     "output_type": "execute_result"
    }
   ],
   "source": [
    "'''\n",
    "Project Overview[App Store Ratings Performance by App Category]:\n",
    "\n",
    "Goals:To clean and understand rating distributions across different app categories.  \n",
    "The team wants to leverage basic statistical insights to guide app performance strategies..\n",
    "\n",
    "'''"
   ]
  },
  {
   "cell_type": "code",
   "execution_count": 2,
   "id": "213053eb",
   "metadata": {},
   "outputs": [],
   "source": [
    "# Importing necessary libraries for analysis\n",
    "import pandas as pd\n",
    "import numpy as np\n",
    "import matplotlib.pyplot as plt\n",
    "import seaborn as sns"
   ]
  },
  {
   "cell_type": "code",
   "execution_count": 5,
   "id": "eb3d1c0e",
   "metadata": {},
   "outputs": [
    {
     "name": "stdout",
     "output_type": "stream",
     "text": [
      "   app_id rating          category review_date\n",
      "0  app001    4.5             Games    7/5/2024\n",
      "1  app002    3.9      Productivity    7/6/2024\n",
      "2  app001    4.7             Games   7/10/2024\n",
      "3  app003      4  Health & Fitness   8/15/2024\n",
      "4  app004   five         Education    9/1/2024\n",
      "5  app005    NaN             Games  10/11/2024\n",
      "6  app006    4.2         Lifestyle  10/20/2024\n",
      "7  app007      4         Utilities  11/15/2024\n",
      "8  app008    3.5     Entertainment   12/1/2024\n",
      "9  app009    4.9  Health & Fitness  12/15/2024\n",
      "['app_id', 'rating', 'category', 'review_date']\n",
      "Number of rows and columns is: (48, 4)\n"
     ]
    }
   ],
   "source": [
    "# Getting the Dataset\n",
    "app_ratings= pd.read_csv(r'D:\\Data Journey\\Python-Summer-Party\\DataSets\\app_ratings.csv')\n",
    "\n",
    "# Display the first few rows to understand the data\n",
    "print(app_ratings.head(10))  # Shows the first 5 rows with columns\n",
    "print(list(app_ratings.columns))\n",
    "print('Number of rows and columns is:', app_ratings.shape)"
   ]
  },
  {
   "cell_type": "code",
   "execution_count": 9,
   "id": "54a68037",
   "metadata": {},
   "outputs": [
    {
     "data": {
      "text/plain": [
       "0     4.5\n",
       "1     3.9\n",
       "2     4.7\n",
       "3     4.0\n",
       "4     NaN\n",
       "5     NaN\n",
       "6     4.2\n",
       "7     4.0\n",
       "8     3.5\n",
       "9     4.9\n",
       "10    4.2\n",
       "11    3.5\n",
       "12    4.0\n",
       "13    2.1\n",
       "14    3.8\n",
       "15    4.5\n",
       "16    3.3\n",
       "17    4.8\n",
       "18    4.6\n",
       "19    NaN\n",
       "20    3.2\n",
       "21    3.7\n",
       "22    4.0\n",
       "23    4.6\n",
       "24    5.0\n",
       "25    6.0\n",
       "26    4.1\n",
       "27    3.0\n",
       "28    4.2\n",
       "29    4.4\n",
       "30    3.5\n",
       "31    4.0\n",
       "32    4.3\n",
       "33    4.1\n",
       "34    NaN\n",
       "35    3.9\n",
       "36    4.6\n",
       "37    4.0\n",
       "38    3.8\n",
       "39    4.2\n",
       "40    4.7\n",
       "41    3.8\n",
       "42    4.3\n",
       "43    4.4\n",
       "44    4.5\n",
       "45    4.0\n",
       "46    NaN\n",
       "47    4.6\n",
       "Name: rating, dtype: float64"
      ]
     },
     "execution_count": 9,
     "metadata": {},
     "output_type": "execute_result"
    }
   ],
   "source": [
    "# Question One: Data cleaning for rating column\n",
    "# 0. Removing leading and trailing spaces\n",
    "app_cleaned = app_ratings['rating'].str.strip()\n",
    "app_cleaned = app_cleaned.str.replace(',','.', regex=False)\n",
    "app_cleaned = pd.to_numeric(app_cleaned, errors= 'coerce')\n",
    "app_cleaned"
   ]
  },
  {
   "cell_type": "code",
   "execution_count": 10,
   "id": "0f47b234",
   "metadata": {},
   "outputs": [
    {
     "name": "stdout",
     "output_type": "stream",
     "text": [
      "0    4.5\n",
      "1    3.9\n",
      "2    4.7\n",
      "3    4.0\n",
      "4    NaN\n",
      "Name: rating, dtype: float64\n",
      "43    4.4\n",
      "44    4.5\n",
      "45    4.0\n",
      "46    NaN\n",
      "47    4.6\n",
      "Name: rating, dtype: float64\n"
     ]
    }
   ],
   "source": [
    "# Question Two\n",
    "print(app_cleaned.head(5))\n",
    "print(app_cleaned.tail(5))"
   ]
  },
  {
   "cell_type": "code",
   "execution_count": 16,
   "id": "86d360d5",
   "metadata": {},
   "outputs": [
    {
     "name": "stdout",
     "output_type": "stream",
     "text": [
      "           category  mean_rating  median_rating  std_rating\n",
      "0         Education     4.380000           4.30    0.376829\n",
      "1     Entertainment     4.220000           4.20    0.511859\n",
      "2             Games     4.192308           4.50    0.920563\n",
      "3  Health & Fitness     4.285714           4.30    0.384831\n",
      "4         Lifestyle     4.025000           4.05    0.170783\n",
      "5      Productivity     3.780000           3.80    0.192354\n",
      "6         Utilities     3.725000           3.65    0.718215\n"
     ]
    }
   ],
   "source": [
    "# Question One: Data cleaning for rating column\n",
    "app_ratings['rating_clean'] = (app_ratings['rating'].str.strip().str.replace(',', '.', regex=False))\n",
    "\n",
    "app_ratings['rating_clean'] = pd.to_numeric(app_ratings['rating_clean'], errors='coerce')\n",
    "\n",
    "# Question Three: Grouping by category and calculating statistics\n",
    "category_stats = app_ratings.groupby('category').agg(mean_rating=('rating_clean', 'mean'), median_rating=('rating_clean', 'median'), std_rating=('rating_clean', 'std')).reset_index()\n",
    "\n",
    "print(category_stats)\n"
   ]
  }
 ],
 "metadata": {
  "kernelspec": {
   "display_name": "Python (Arewadatascience)",
   "language": "python",
   "name": "arewadatascience"
  },
  "language_info": {
   "codemirror_mode": {
    "name": "ipython",
    "version": 3
   },
   "file_extension": ".py",
   "mimetype": "text/x-python",
   "name": "python",
   "nbconvert_exporter": "python",
   "pygments_lexer": "ipython3",
   "version": "3.12.7"
  }
 },
 "nbformat": 4,
 "nbformat_minor": 5
}
