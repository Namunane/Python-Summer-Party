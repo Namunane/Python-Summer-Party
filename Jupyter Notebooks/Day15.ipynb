{
 "cells": [
  {
   "cell_type": "code",
   "execution_count": null,
   "id": "2c5b134a",
   "metadata": {},
   "outputs": [
    {
     "data": {
      "text/plain": [
       "'\\nProject Overview[New Milkshake Flavor Selection for Launch]:\\n\\nGoals:To systematically analyze and clean the ratings data to identify top-performing flavors.\\n\\n\\n'"
      ]
     },
     "execution_count": 1,
     "metadata": {},
     "output_type": "execute_result"
    }
   ],
   "source": [
    "'''\n",
    "Project Uber[UberPool Driver Earnings Optimization Strategies]:\n",
    "\n",
    "Goals:To understand how trip characteristics impact driver earnings.\n",
    "To develop data-driven recommendations that maximize driver earnings potential.\n",
    "\n",
    "\n",
    "'''"
   ]
  },
  {
   "cell_type": "code",
   "execution_count": 2,
   "id": "2569ba09",
   "metadata": {},
   "outputs": [],
   "source": [
    "# Importing necessary libraries for analysis\n",
    "import pandas as pd\n",
    "import numpy as np\n",
    "import matplotlib.pyplot as plt\n",
    "import seaborn as sns"
   ]
  },
  {
   "cell_type": "code",
   "execution_count": 4,
   "id": "7c539fb5",
   "metadata": {},
   "outputs": [
    {
     "name": "stdout",
     "output_type": "stream",
     "text": [
      "   trip_id  driver_id ride_type  trip_date  rider_count  total_distance  \\\n",
      "0      101          1  UberPool   7/5/2024            3            10.5   \n",
      "1      102          1  UberPool  7/15/2024            2             8.0   \n",
      "2      103          2  UberPool  8/10/2024            4            15.0   \n",
      "3      104          3     UberX  7/20/2024            1             5.0   \n",
      "4      105          2  UberPool   9/1/2024            3            12.0   \n",
      "\n",
      "   total_earnings  \n",
      "0            22.5  \n",
      "1            18.0  \n",
      "2            35.0  \n",
      "3            12.0  \n",
      "4            30.0  \n",
      "['trip_id', 'driver_id', 'ride_type', 'trip_date', 'rider_count', 'total_distance', 'total_earnings']\n",
      "Number of rows and columns is: (12, 7)\n"
     ]
    }
   ],
   "source": [
    "# Getting the Dataset\n",
    "fct_trips= pd.read_csv(r'D:\\Data Journey\\Python-Summer-Party\\DataSets\\fct_trips.csv')\n",
    "\n",
    "# Display the first few rows to understand the data\n",
    "print(fct_trips.head(5))  # Shows the first 5 rows with columns\n",
    "print(list(fct_trips.columns))\n",
    "print('Number of rows and columns is:', fct_trips.shape)"
   ]
  },
  {
   "cell_type": "code",
   "execution_count": null,
   "id": "3590f417",
   "metadata": {},
   "outputs": [],
   "source": []
  }
 ],
 "metadata": {
  "kernelspec": {
   "display_name": "Python (Arewadatascience)",
   "language": "python",
   "name": "arewadatascience"
  },
  "language_info": {
   "codemirror_mode": {
    "name": "ipython",
    "version": 3
   },
   "file_extension": ".py",
   "mimetype": "text/x-python",
   "name": "python",
   "nbconvert_exporter": "python",
   "pygments_lexer": "ipython3",
   "version": "3.12.7"
  }
 },
 "nbformat": 4,
 "nbformat_minor": 5
}
