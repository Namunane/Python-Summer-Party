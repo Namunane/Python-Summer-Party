{
 "cells": [
  {
   "cell_type": "code",
   "execution_count": null,
   "id": "2c5b134a",
   "metadata": {},
   "outputs": [
    {
     "data": {
      "text/plain": [
       "'\\nProject Overview[New Milkshake Flavor Selection for Launch]:\\n\\nGoals:To systematically analyze and clean the ratings data to identify top-performing flavors.\\n\\n\\n'"
      ]
     },
     "execution_count": 1,
     "metadata": {},
     "output_type": "execute_result"
    }
   ],
   "source": [
    "'''\n",
    "Project Uber[UberPool Driver Earnings Optimization Strategies]:\n",
    "\n",
    "Goals:To understand how trip characteristics impact driver earnings.\n",
    "To develop data-driven recommendations that maximize driver earnings potential.\n",
    "\n",
    "\n",
    "'''"
   ]
  },
  {
   "cell_type": "code",
   "execution_count": 2,
   "id": "2569ba09",
   "metadata": {},
   "outputs": [],
   "source": [
    "# Importing necessary libraries for analysis\n",
    "import pandas as pd\n",
    "import numpy as np\n",
    "import matplotlib.pyplot as plt\n",
    "import seaborn as sns"
   ]
  },
  {
   "cell_type": "code",
   "execution_count": 4,
   "id": "7c539fb5",
   "metadata": {},
   "outputs": [
    {
     "name": "stdout",
     "output_type": "stream",
     "text": [
      "   trip_id  driver_id ride_type  trip_date  rider_count  total_distance  \\\n",
      "0      101          1  UberPool   7/5/2024            3            10.5   \n",
      "1      102          1  UberPool  7/15/2024            2             8.0   \n",
      "2      103          2  UberPool  8/10/2024            4            15.0   \n",
      "3      104          3     UberX  7/20/2024            1             5.0   \n",
      "4      105          2  UberPool   9/1/2024            3            12.0   \n",
      "\n",
      "   total_earnings  \n",
      "0            22.5  \n",
      "1            18.0  \n",
      "2            35.0  \n",
      "3            12.0  \n",
      "4            30.0  \n",
      "['trip_id', 'driver_id', 'ride_type', 'trip_date', 'rider_count', 'total_distance', 'total_earnings']\n",
      "Number of rows and columns is: (12, 7)\n"
     ]
    }
   ],
   "source": [
    "# Getting the Dataset\n",
    "fct_trips= pd.read_csv(r'D:\\Data Journey\\Python-Summer-Party\\DataSets\\fct_trips.csv')\n",
    "\n",
    "# Display the first few rows to understand the data\n",
    "print(fct_trips.head(5))  # Shows the first 5 rows with columns\n",
    "print(list(fct_trips.columns))\n",
    "print('Number of rows and columns is:', fct_trips.shape)"
   ]
  },
  {
   "cell_type": "code",
   "execution_count": 14,
   "id": "3590f417",
   "metadata": {},
   "outputs": [
    {
     "name": "stdout",
     "output_type": "stream",
     "text": [
      "Average driver earnings per completed UberPool ride (with >2 riders) between July–Sept 2024: 30.50\n"
     ]
    }
   ],
   "source": [
    "# Question One\n",
    "# Average driver earnings per completed UberPool ride with more than two riders between July 1st and September 30th, 2024\n",
    "# 0.Converting trip_date to datetime datatype and filtering for July 1st & Sept 30th 2024\n",
    "fct_trips['trip_date'] = pd.to_datetime(fct_trips['trip_date'], errors='coerce')\n",
    "July_Sept_2024_trips = fct_trips[(fct_trips['trip_date'] >= '2024-07-01')& (fct_trips['trip_date'] <= '2024-09-30')]\n",
    "July_Sept_2024_trips\n",
    "\n",
    "# 1. Filtering for UberPool type\n",
    "Uberpool_Filtered = July_Sept_2024_trips[(July_Sept_2024_trips['ride_type'] == 'UberPool') & (July_Sept_2024_trips['rider_count']> 2)]\n",
    "Avg_Earnings = Uberpool_Filtered['total_earnings'].mean()\n",
    "\n",
    "print(f\"Average driver earnings per completed UberPool ride (with >2 riders) between July–Sept 2024: {Avg_Earnings:.2f}\")"
   ]
  },
  {
   "cell_type": "code",
   "execution_count": 22,
   "id": "2ab5a63f",
   "metadata": {},
   "outputs": [
    {
     "name": "stdout",
     "output_type": "stream",
     "text": [
      "Average earnings per mile for completed UberPool rides with >2 riders (July–Sept 2024): 2.45\n"
     ]
    }
   ],
   "source": [
    "# Question Two\n",
    "# 0. Filter July 1 - Sept 30, 2024 and add earnings_per_mile column\n",
    "July_Sept_2024_trips = fct_trips[(fct_trips['trip_date'] >= '2024-07-01') &(fct_trips['trip_date'] <= '2024-09-30')].copy()\n",
    "\n",
    "July_Sept_2024_trips['earnings_per_mile'] = (July_Sept_2024_trips['total_earnings'] / July_Sept_2024_trips['total_distance'])\n",
    "\n",
    "# 1. Filter for completed UberPool rides with >2 riders\n",
    "uberpool_filtered = July_Sept_2024_trips[(July_Sept_2024_trips['ride_type'] == 'UberPool') & (July_Sept_2024_trips['rider_count'] > 2)]\n",
    "\n",
    "# 2. Compute average earnings per mile\n",
    "avg_earnings_per_mile = uberpool_filtered['earnings_per_mile'].mean()\n",
    "\n",
    "print(f\"Average earnings per mile for completed UberPool rides with >2 riders (July–Sept 2024): {avg_earnings_per_mile:.2f}\")\n"
   ]
  },
  {
   "cell_type": "code",
   "execution_count": 25,
   "id": "17b6612a",
   "metadata": {},
   "outputs": [
    {
     "name": "stdout",
     "output_type": "stream",
     "text": [
      "Optimal combination for max driver earnings per UberPool ride:\n",
      "rider_count        5.0\n",
      "total_distance    20.0\n",
      "total_earnings    50.0\n",
      "Name: 8, dtype: float64\n"
     ]
    }
   ],
   "source": [
    "# Filter for UberPool rides between July 1st and Sept 30th, 2024\n",
    "July_Sept_2024_trips = fct_trips[\n",
    "    (fct_trips['trip_date'] >= '2024-07-01') &\n",
    "    (fct_trips['trip_date'] <= '2024-09-30') &\n",
    "    (fct_trips['ride_type'] == 'UberPool')\n",
    "].copy()\n",
    "\n",
    "# Group by rider_count and total_distance to calculate average total earnings\n",
    "grouped = July_Sept_2024_trips.groupby(['rider_count', 'total_distance'])['total_earnings'].mean().reset_index()\n",
    "\n",
    "# Find the combination with the highest average total earnings\n",
    "max_avg_earning_row = grouped.loc[grouped['total_earnings'].idxmax()]\n",
    "\n",
    "print(\"Optimal combination for max driver earnings per UberPool ride:\")\n",
    "print(max_avg_earning_row)\n"
   ]
  }
 ],
 "metadata": {
  "kernelspec": {
   "display_name": "Python (Arewadatascience)",
   "language": "python",
   "name": "arewadatascience"
  },
  "language_info": {
   "codemirror_mode": {
    "name": "ipython",
    "version": 3
   },
   "file_extension": ".py",
   "mimetype": "text/x-python",
   "name": "python",
   "nbconvert_exporter": "python",
   "pygments_lexer": "ipython3",
   "version": "3.12.7"
  }
 },
 "nbformat": 4,
 "nbformat_minor": 5
}
