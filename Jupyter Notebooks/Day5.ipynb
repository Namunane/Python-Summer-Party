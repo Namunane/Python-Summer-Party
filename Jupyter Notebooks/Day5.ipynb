{
 "cells": [
  {
   "cell_type": "code",
   "execution_count": null,
   "id": "eafab57c",
   "metadata": {},
   "outputs": [
    {
     "data": {
      "text/plain": [
       "'\\nProject Overview[User Interaction Insights]:\\nThis project supports Google by analyzing user engagement with search result pages\\n\\nGoal: To understand how different numbers of search results impact user interaction time\\n\\nThis will help optimize the current search results presentation strategy.\\n\\n'"
      ]
     },
     "execution_count": 1,
     "metadata": {},
     "output_type": "execute_result"
    }
   ],
   "source": [
    "'''\n",
    "Project Overview[Switch 2 Pre-sales Demand Forecasting]:\n",
    "This project seeks to understand how different demographics influence pre-sale volumes across regions. \n",
    "\n",
    "Goal:To analyze regional pre-order patterns and customer segmentation\n",
    "\n",
    "Leveraged historical pre-sale transaction data to extract meaningful insights that can guide marketing strategies.\n",
    "\n",
    "'''"
   ]
  },
  {
   "cell_type": "code",
   "execution_count": 2,
   "id": "f1f1cc3d",
   "metadata": {},
   "outputs": [],
   "source": [
    "# Importing necessary libraries for analysis\n",
    "import pandas as pd\n",
    "import matplotlib.pyplot as plt\n",
    "import seaborn as sns"
   ]
  },
  {
   "cell_type": "code",
   "execution_count": 3,
   "id": "6ae7136b",
   "metadata": {},
   "outputs": [
    {
     "name": "stdout",
     "output_type": "stream",
     "text": [
      "          region customer_id pre_order_date demographic_group  \\\n",
      "0  North America        C001       7/2/2024             Gamer   \n",
      "1         Europe        C002       7/3/2024            Casual   \n",
      "2           Asia        C003       7/4/2024   Tech Enthusiast   \n",
      "3  Latin America        C004       7/5/2024            Family   \n",
      "4        Oceania        C005       7/6/2024           Student   \n",
      "5  North America        C006       7/7/2024             Gamer   \n",
      "6         Europe        C007       7/8/2024               NaN   \n",
      "7            NaN        C008       7/9/2024            Casual   \n",
      "8           Asia        C009      7/10/2024            Family   \n",
      "9  North America        C010      7/11/2024             Gamer   \n",
      "\n",
      "   pre_order_quantity  \n",
      "0                   1  \n",
      "1                   2  \n",
      "2                   1  \n",
      "3                   3  \n",
      "4                   2  \n",
      "5                   5  \n",
      "6                   2  \n",
      "7                   1  \n",
      "8                   4  \n",
      "9                   1  \n",
      "['region', 'customer_id', 'pre_order_date', 'demographic_group', 'pre_order_quantity']\n",
      "Number of rows and columns is: (57, 5)\n"
     ]
    }
   ],
   "source": [
    "# Getting the Dataset\n",
    "pre_sale_data = pd.read_csv(r'D:\\Data Journey\\Python-Summer-Party\\DataSets\\pre_sale_data.csv')\n",
    "\n",
    "# Display the first few rows to understand the data\n",
    "print(pre_sale_data.head(10))  # Shows the first 5 rows with columns\n",
    "print(list(pre_sale_data.columns))\n",
    "print('Number of rows and columns is:', pre_sale_data.shape)"
   ]
  },
  {
   "cell_type": "code",
   "execution_count": 4,
   "id": "60fddc35",
   "metadata": {},
   "outputs": [
    {
     "data": {
      "text/plain": [
       "region                1\n",
       "customer_id           0\n",
       "pre_order_date        0\n",
       "demographic_group     3\n",
       "pre_order_quantity    0\n",
       "dtype: int64"
      ]
     },
     "execution_count": 4,
     "metadata": {},
     "output_type": "execute_result"
    }
   ],
   "source": [
    "# Exploratory Data Analysis\n",
    "# Missing column data\n",
    "pre_sale_data.isna().sum()"
   ]
  },
  {
   "cell_type": "code",
   "execution_count": 6,
   "id": "5e52001e",
   "metadata": {},
   "outputs": [
    {
     "name": "stdout",
     "output_type": "stream",
     "text": [
      "Rows with missing values: 4\n",
      "Total rows: 57\n",
      "Percentage of rows with missing values: 7.02%\n"
     ]
    }
   ],
   "source": [
    "# Question One:\n",
    "# What percentage of records have missing values in at least one column?\n",
    "\n",
    "# 1. Boolean Series: True if a row has any missing value\n",
    "rows_with_missing = pre_sale_data.isnull().any(axis=1)\n",
    "\n",
    "# 2. Count how many rows have missing values\n",
    "num_missing_rows = rows_with_missing.sum()\n",
    "\n",
    "# 3. Total number of rows\n",
    "total_rows = pre_sale_data.shape[0]\n",
    "\n",
    "# 4. Calculate percentage\n",
    "percent_missing_rows = (num_missing_rows / total_rows) * 100\n",
    "\n",
    "print(f\"Rows with missing values: {num_missing_rows}\")\n",
    "print(f\"Total rows: {total_rows}\")\n",
    "print(f\"Percentage of rows with missing values: {percent_missing_rows:.2f}%\")\n",
    "\n",
    "# Handling of missing data"
   ]
  }
 ],
 "metadata": {
  "kernelspec": {
   "display_name": "Python (Arewadatascience)",
   "language": "python",
   "name": "arewadatascience"
  },
  "language_info": {
   "codemirror_mode": {
    "name": "ipython",
    "version": 3
   },
   "file_extension": ".py",
   "mimetype": "text/x-python",
   "name": "python",
   "nbconvert_exporter": "python",
   "pygments_lexer": "ipython3",
   "version": "3.12.7"
  }
 },
 "nbformat": 4,
 "nbformat_minor": 5
}
