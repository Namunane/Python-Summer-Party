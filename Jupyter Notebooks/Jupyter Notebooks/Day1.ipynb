{
 "cells": [
  {
   "cell_type": "code",
   "execution_count": 2,
   "id": "9a252ab5",
   "metadata": {},
   "outputs": [],
   "source": [
    "# Importing necessary libraries for analysis\n",
    "import pandas as pd\n",
    "import matplotlib.pyplot as plt\n",
    "import seaborn as sns\n",
    "from datetime import date"
   ]
  },
  {
   "cell_type": "code",
   "execution_count": 3,
   "id": "29268468",
   "metadata": {},
   "outputs": [
    {
     "name": "stdout",
     "output_type": "stream",
     "text": [
      "   group_id created_date  total_messages  participant_count\n",
      "0         1    10/1/2024             100                 25\n",
      "1         2   10/10/2024             200                 55\n",
      "2         3    11/5/2024             150                 40\n",
      "3         4   10/15/2024             500                100\n",
      "4         5    12/1/2024             120                 35\n",
      "['group_id', 'created_date', 'total_messages', 'participant_count']\n",
      "Number of rows and columns is: (8, 4)\n"
     ]
    }
   ],
   "source": [
    "# Getting the dataset\n",
    "data = pd.read_csv(r'D:\\Data Journey\\Python Summer Party\\DataSets\\data.csv')\n",
    "\n",
    "# Display the first few rows to understand the data\n",
    "print(data.head())  # Shows the first 5 rows with columns\n",
    "print(list(data.columns))\n",
    "print('Number of rows and columns is:', data.shape)"
   ]
  },
  {
   "cell_type": "code",
   "execution_count": 4,
   "id": "7ce9fed0",
   "metadata": {},
   "outputs": [
    {
     "name": "stdout",
     "output_type": "stream",
     "text": [
      "Maximum number of participants created in October 2024: 100\n",
      "Average number of participants created in October 2024: 58.0\n",
      "Average number of participants (count > 50) created in October 2024: 71.66666666666667\n"
     ]
    }
   ],
   "source": [
    "# Finding maximum number of participants created in October 2024\n",
    "\n",
    "# Convert to datetime if not already done\n",
    "data['created_date'] = pd.to_datetime(data['created_date'])\n",
    "\n",
    "# Filter for October 2024\n",
    "oct_2024 = data[(data['created_date'].dt.year == 2024) & (data['created_date'].dt.month == 10)]\n",
    "\n",
    "# Get the maximum number of participants in October 2024\n",
    "max_participants = oct_2024['participant_count'].max()\n",
    "print(\"Maximum number of participants created in October 2024:\", max_participants)\n",
    "\n",
    "# Getting average number of participants in October 2024\n",
    "avg_participants = oct_2024['participant_count'].mean()\n",
    "print(\"Average number of participants created in October 2024:\", avg_participants)\n",
    "\n",
    "#Average_number_of participants whose count is greater than 50 & created in October 2024\n",
    "average_participants = oct_2024[oct_2024['participant_count'] > 50]['participant_count'].mean()\n",
    "print(\"Average number of participants (count > 50) created in October 2024:\",average_participants)"
   ]
  }
 ],
 "metadata": {
  "kernelspec": {
   "display_name": "Python (Arewadatascience)",
   "language": "python",
   "name": "arewadatascience"
  },
  "language_info": {
   "codemirror_mode": {
    "name": "ipython",
    "version": 3
   },
   "file_extension": ".py",
   "mimetype": "text/x-python",
   "name": "python",
   "nbconvert_exporter": "python",
   "pygments_lexer": "ipython3",
   "version": "3.12.7"
  }
 },
 "nbformat": 4,
 "nbformat_minor": 5
}
