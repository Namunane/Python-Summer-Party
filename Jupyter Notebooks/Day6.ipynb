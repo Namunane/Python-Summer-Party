{
 "cells": [
  {
   "cell_type": "code",
   "execution_count": 1,
   "id": "502e0a89",
   "metadata": {},
   "outputs": [
    {
     "data": {
      "text/plain": [
       "'\\nProject Overview[Ice Cream Sales Seasonal Performance Assessment]:\\nThis project seeks to investigate seasonal sales patterns through comprehensive data analysis. \\n\\nGoals:To understand how temperature variations and unique transaction characteristics impact ice cream sales volume\\n    :To perform detailed data cleaning and exploratory analysis to uncover meaningful insights about seasonal sales performance.\\n\\n'"
      ]
     },
     "execution_count": 1,
     "metadata": {},
     "output_type": "execute_result"
    }
   ],
   "source": [
    "'''\n",
    "Project Overview[Ice Cream Sales Seasonal Performance Assessment]:\n",
    "This project seeks to investigate seasonal sales patterns through comprehensive data analysis. \n",
    "\n",
    "Goals:To understand how temperature variations and unique transaction characteristics impact ice cream sales volume\n",
    "    :To perform detailed data cleaning and exploratory analysis to uncover meaningful insights about seasonal sales performance.\n",
    "\n",
    "'''"
   ]
  },
  {
   "cell_type": "code",
   "execution_count": 2,
   "id": "1ab9acd0",
   "metadata": {},
   "outputs": [],
   "source": [
    "# Importing necessary libraries for analysis\n",
    "import pandas as pd\n",
    "import numpy as np\n",
    "import matplotlib.pyplot as plt\n",
    "import seaborn as sns"
   ]
  },
  {
   "cell_type": "code",
   "execution_count": 3,
   "id": "fda0fd8b",
   "metadata": {},
   "outputs": [
    {
     "name": "stdout",
     "output_type": "stream",
     "text": [
      "    sale_date  temperature                product_name  sales_volume  \\\n",
      "0    7/5/2024         62.0               Cherry Garcia            23   \n",
      "1   8/15/2024         64.0               Chunky Monkey            26   \n",
      "2   9/25/2024         66.0                  Phish Food            29   \n",
      "3   10/5/2024         68.0             Americone Dream            32   \n",
      "4  11/15/2024         70.0     Chocolate Fudge Brownie            35   \n",
      "5  12/25/2024         72.0                  Half Baked            38   \n",
      "6    1/5/2025         74.0  New York Super Fudge Chunk            41   \n",
      "7   2/15/2025         76.0               Cherry Garcia            44   \n",
      "8   3/25/2025         78.0               Chunky Monkey            47   \n",
      "9    4/5/2025         80.0                  Phish Food            50   \n",
      "\n",
      "  transaction_id  \n",
      "0         TX0001  \n",
      "1         TX0002  \n",
      "2         TX0003  \n",
      "3         TX0004  \n",
      "4         TX0005  \n",
      "5         TX0006  \n",
      "6         TX0007  \n",
      "7         TX0008  \n",
      "8         TX0009  \n",
      "9         TX0010  \n",
      "['sale_date', 'temperature', 'product_name', 'sales_volume', 'transaction_id']\n",
      "Number of rows and columns is: (59, 5)\n"
     ]
    }
   ],
   "source": [
    "# Getting the Dataset\n",
    "ice_cream_sales_data = pd.read_csv(r'D:\\Data Journey\\Python-Summer-Party\\DataSets\\ice_cream_sales_data.csv')\n",
    "\n",
    "# Display the first few rows to understand the data\n",
    "print(ice_cream_sales_data .head(10))  # Shows the first 5 rows with columns\n",
    "print(list(ice_cream_sales_data .columns))\n",
    "print('Number of rows and columns is:', ice_cream_sales_data .shape)"
   ]
  },
  {
   "cell_type": "code",
   "execution_count": 4,
   "id": "a3cf0c4c",
   "metadata": {},
   "outputs": [
    {
     "name": "stdout",
     "output_type": "stream",
     "text": [
      "Number of duplicated sales transactions: 0\n",
      "Dataset shape after removing duplicates: (59, 5)\n"
     ]
    }
   ],
   "source": [
    "# Question One:\n",
    "# Data Cleaning to remove duplicate sales transactions from the dataset to ensure accurate analysis of seasonal patterns\n",
    "# 0. Check for duplicate transaction IDs\n",
    "duplicated_sales_transactions = ice_cream_sales_data['transaction_id'].duplicated().sum()\n",
    "print(f'Number of duplicated sales transactions: {duplicated_sales_transactions}')\n",
    "\n",
    "# 1. Drop duplicates based on 'transaction_id' (keeping the first occurrence)\n",
    "ice_cream_sales_data = ice_cream_sales_data.drop_duplicates(subset='transaction_id', keep='first').reset_index(drop=True)\n",
    "print(f\"Dataset shape after removing duplicates: {ice_cream_sales_data.shape}\")"
   ]
  },
  {
   "cell_type": "code",
   "execution_count": 16,
   "id": "cb8169b3",
   "metadata": {},
   "outputs": [
    {
     "name": "stdout",
     "output_type": "stream",
     "text": [
      "temperature_range  <60  60-69  70-79  80-89  90-99  100+\n",
      "month                                                   \n",
      "1                    0    190     41    149      0     0\n",
      "2                    0    116    102     22      0    80\n",
      "3                   25    119    130     61      0     0\n",
      "4                    0    122      0    114     28     0\n",
      "5                    0    156     89    120      0     0\n",
      "6                    0     34    220   1000      0     0\n",
      "7                    0     60   1295     59      0     0\n",
      "8                    0     66    134    160      0     0\n",
      "9                    0     72    137    101     65     0\n",
      "10                   0    100    186    104      0     0\n",
      "11                   0     71     84    250      0     0\n",
      "12                   0     74     90    256      0     0\n"
     ]
    },
    {
     "name": "stderr",
     "output_type": "stream",
     "text": [
      "C:\\Users\\enock\\AppData\\Local\\Temp\\ipykernel_15312\\961717735.py:15: FutureWarning: The default value of observed=False is deprecated and will change to observed=True in a future version of pandas. Specify observed=False to silence this warning and retain the current behavior\n",
      "  pivot_table = pd.pivot_table(ice_cream_sales_data,values='sales_volume',index='month',columns='temperature_range',aggfunc='sum',fill_value=0)\n"
     ]
    }
   ],
   "source": [
    "# Quetion Two:\n",
    "# Creating a pivot table to summarize the total sales volume of ice cream products by month and temperature range. \n",
    "\n",
    "# Convert sale_date to datetime\n",
    "ice_cream_sales_data['sale_date'] = pd.to_datetime(ice_cream_sales_data['sale_date'])\n",
    "# Extract month number\n",
    "ice_cream_sales_data['month'] = ice_cream_sales_data['sale_date'].dt.month\n",
    "\n",
    "# Create temperature bins\n",
    "bins = [-np.inf, 60, 70, 80, 90, 100, np.inf]\n",
    "labels = ['<60', '60-69', '70-79', '80-89', '90-99', '100+']\n",
    "\n",
    "ice_cream_sales_data['temperature_range'] = pd.cut(ice_cream_sales_data['temperature'],bins=bins,labels=labels,right=False)\n",
    "\n",
    "pivot_table = pd.pivot_table(ice_cream_sales_data,values='sales_volume',index='month',columns='temperature_range',aggfunc='sum',fill_value=0)\n",
    "\n",
    "print(pivot_table)"
   ]
  },
  {
   "cell_type": "code",
   "execution_count": 23,
   "id": "f65b52a3",
   "metadata": {},
   "outputs": [
    {
     "name": "stdout",
     "output_type": "stream",
     "text": [
      "Outliers in Monthly Sales:\n",
      "   month  Total Sales\n",
      "5      6         1254\n",
      "6      7         1414\n"
     ]
    },
    {
     "data": {
      "image/png": "[encoded data removed]",
      "text/plain": [
       "<Figure size 800x600 with 1 Axes>"
      ]
     },
     "metadata": {},
     "output_type": "display_data"
    }
   ],
   "source": [
    "# Aggregate sales by month\n",
    "sales_vol_month = (\n",
    "    ice_cream_sales_data\n",
    "    .groupby('month')['sales_volume']\n",
    "    .sum()\n",
    "    .reset_index(name='Total Sales')  # <- renamed here\n",
    ")\n",
    "\n",
    "# Calculate quartiles on the correct column\n",
    "Q1 = sales_vol_month['Total Sales'].quantile(0.25)\n",
    "Q3 = sales_vol_month['Total Sales'].quantile(0.75)\n",
    "IQR = Q3 - Q1\n",
    "\n",
    "# Define outlier bounds\n",
    "lower_bound = Q1 - 1.5 * IQR\n",
    "upper_bound = Q3 + 1.5 * IQR\n",
    "\n",
    "# Filter outliers using the correct column\n",
    "outliers = sales_vol_month[\n",
    "    (sales_vol_month['Total Sales'] < lower_bound) |\n",
    "    (sales_vol_month['Total Sales'] > upper_bound)\n",
    "]\n",
    "\n",
    "print(\"Outliers in Monthly Sales:\")\n",
    "print(outliers)\n",
    "\n",
    "# Using Seaborn for enhanced visuals\n",
    "plt.figure(figsize=(8, 6))\n",
    "sns.boxplot(y='Total Sales', data=sales_vol_month)\n",
    "plt.title('Monthly Total Ice Cream Sales')\n",
    "plt.ylabel('Total Sales')\n",
    "plt.show()"
   ]
  }
 ],
 "metadata": {
  "kernelspec": {
   "display_name": "Python (Arewadatascience)",
   "language": "python",
   "name": "arewadatascience"
  },
  "language_info": {
   "codemirror_mode": {
    "name": "ipython",
    "version": 3
   },
   "file_extension": ".py",
   "mimetype": "text/x-python",
   "name": "python",
   "nbconvert_exporter": "python",
   "pygments_lexer": "ipython3",
   "version": "3.12.7"
  }
 },
 "nbformat": 4,
 "nbformat_minor": 5
}
