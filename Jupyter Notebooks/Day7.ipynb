{
 "cells": [
  {
   "cell_type": "code",
   "execution_count": null,
   "id": "afc1d70d",
   "metadata": {},
   "outputs": [
    {
     "data": {
      "text/plain": [
       "'\\nProject Overview[Ice Cream Sales Seasonal Performance Assessment]:\\nThis project seeks to investigate seasonal sales patterns through comprehensive data analysis. \\n\\nGoals:To understand how temperature variations and unique transaction characteristics impact ice cream sales volume\\n    :To perform detailed data cleaning and exploratory analysis to uncover meaningful insights about seasonal sales performance.\\n\\n'"
      ]
     },
     "execution_count": 1,
     "metadata": {},
     "output_type": "execute_result"
    }
   ],
   "source": [
    "'''\n",
    "Project Overview[Celebrity Product Drops Sales Performance Analysis]:\n",
    "\n",
    "Goals:To evaluate the effectiveness of celebrity product collaborations by analyzing sales data\n",
    "Project involves investigating the performance of celebrity product drops to inform future marketing strategies\n",
    "\n",
    "'''"
   ]
  },
  {
   "cell_type": "code",
   "execution_count": 1,
   "id": "e6879d9e",
   "metadata": {},
   "outputs": [],
   "source": [
    "# Importing necessary libraries for analysis\n",
    "import pandas as pd\n",
    "import numpy as np\n",
    "import matplotlib.pyplot as plt\n",
    "import seaborn as sns"
   ]
  },
  {
   "cell_type": "code",
   "execution_count": 2,
   "id": "b123e921",
   "metadata": {},
   "outputs": [
    {
     "name": "stdout",
     "output_type": "stream",
     "text": [
      "   sale_id  sale_date  product_id  sale_amount  celebrity_id\n",
      "0        1  1/10/2025         901          NaN           101\n",
      "1        2  1/15/2025         901      1500.00           101\n",
      "2        3   2/3/2025         902      2000.50           102\n",
      "3        4  3/12/2025         903      2500.75           103\n",
      "4        5  3/20/2025         904          NaN           104\n",
      "5        6  2/28/2025         901      1000.00           101\n",
      "6        7  3/25/2025         902       300.00           102\n",
      "7        8  3/30/2025         905      1800.00           105\n",
      "8        9  1/20/2025         903      1200.00           103\n",
      "9       10   2/5/2025         906       500.00           106\n",
      "['sale_id', 'sale_date', 'product_id', 'sale_amount', 'celebrity_id']\n",
      "Number of rows and columns is: (18, 5)\n"
     ]
    }
   ],
   "source": [
    "# Getting the Dataset\n",
    "fct_sales = pd.read_csv(r'D:\\Data Journey\\Python-Summer-Party\\DataSets\\fct_sales.csv')\n",
    "\n",
    "# Display the first few rows to understand the data\n",
    "print(fct_sales .head(10))  # Shows the first 5 rows with columns\n",
    "print(list(fct_sales .columns))\n",
    "print('Number of rows and columns is:', fct_sales .shape)"
   ]
  },
  {
   "cell_type": "code",
   "execution_count": 3,
   "id": "61ab7170",
   "metadata": {},
   "outputs": [
    {
     "name": "stdout",
     "output_type": "stream",
     "text": [
      "    sale_id  sale_date  product_id  sale_amount  celebrity_id  month\n",
      "0         1 2025-01-10         901          NaN           101      1\n",
      "4         5 2025-03-20         904          NaN           104      3\n",
      "12       13 2025-03-15         909          NaN           102      3\n"
     ]
    }
   ],
   "source": [
    "# Question One : Finding missing data for the period For Q1 2025 (January 1st through March 31st, 2025)\n",
    "\n",
    "# 0. Dealing with timeframe\n",
    "# Convert sale_date to datetime\n",
    "fct_sales['sale_date'] = pd.to_datetime(fct_sales['sale_date'])\n",
    "# Extract month number\n",
    "fct_sales['month'] = fct_sales['sale_date'].dt.month\n",
    "# Filter for months January to March\n",
    "fct_sales_q1_2025 = fct_sales[(fct_sales['sale_date'] >= '2025-01-01') & (fct_sales['sale_date'] <= '2025-03-31')]\n",
    "\n",
    "# 1. Missing data\n",
    "missing_sales = fct_sales_q1_2025[fct_sales_q1_2025['sale_amount'].isna()]\n",
    "\n",
    "print(missing_sales)"
   ]
  },
  {
   "cell_type": "code",
   "execution_count": 4,
   "id": "516f29ab",
   "metadata": {},
   "outputs": [
    {
     "name": "stdout",
     "output_type": "stream",
     "text": [
      "    celebrity_id  product_id\n",
      "0            101         901\n",
      "2            102         902\n",
      "3            103         903\n",
      "4            104         904\n",
      "7            105         905\n",
      "9            106         906\n",
      "10           107         907\n",
      "11           101         908\n",
      "12           102         909\n",
      "13           108         910\n"
     ]
    }
   ],
   "source": [
    "# Question Two: Unique combinations of celebrity id and product id\n",
    "# To ensure that each collaboration is accurately accounted for in the analysis of Nike's marketing performance.\n",
    "# Unique combinations of celebrity_id and product_id\n",
    "unique_combinations = fct_sales_q1_2025[['celebrity_id', 'product_id']].drop_duplicates()\n",
    "\n",
    "print(unique_combinations)\n"
   ]
  },
  {
   "cell_type": "code",
   "execution_count": 5,
   "id": "10e02992",
   "metadata": {},
   "outputs": [
    {
     "name": "stdout",
     "output_type": "stream",
     "text": [
      "   celebrity_id  product_id  sale_amount\n",
      "2           102         902      3800.50\n",
      "4           103         903      3700.75\n",
      "6           105         905      2500.00\n"
     ]
    },
    {
     "name": "stderr",
     "output_type": "stream",
     "text": [
      "C:\\Users\\enock\\AppData\\Local\\Temp\\ipykernel_9208\\3463303698.py:4: SettingWithCopyWarning: \n",
      "A value is trying to be set on a copy of a slice from a DataFrame.\n",
      "Try using .loc[row_indexer,col_indexer] = value instead\n",
      "\n",
      "See the caveats in the documentation: https://pandas.pydata.org/pandas-docs/stable/user_guide/indexing.html#returning-a-view-versus-a-copy\n",
      "  fct_sales_q1_2025['sale_amount'] = fct_sales_q1_2025['sale_amount'].fillna(0)\n"
     ]
    }
   ],
   "source": [
    "# Question Three:\n",
    "# Ranking the unique celebrity collaborations based on their total sales amounts and list the top 3 collaborations in descending order\n",
    "# Filling in missing values with 0 for correct calculation\n",
    "fct_sales_q1_2025['sale_amount'] = fct_sales_q1_2025['sale_amount'].fillna(0)\n",
    "\n",
    "# Group by both celebrity and product\n",
    "top3_celebrity_collaborations = ( fct_sales_q1_2025.groupby(['celebrity_id', 'product_id'])['sale_amount'].sum().reset_index().sort_values(by='sale_amount', ascending=False).head(3))\n",
    "print(top3_celebrity_collaborations)\n"
   ]
  },
  {
   "cell_type": "code",
   "execution_count": 6,
   "id": "d61fa99d",
   "metadata": {},
   "outputs": [
    {
     "name": "stdout",
     "output_type": "stream",
     "text": [
      "Jessa\n",
      "1178\n"
     ]
    }
   ],
   "source": [
    "# create a dictionary named person\n",
    "person = {\"name\": \"Jessa\", \"country\": \"USA\", \"telephone\": 1178}\n",
    "\n",
    "# access value using key name in []\n",
    "print(person['name'])\n",
    "# Output 'Jessa'\n",
    "\n",
    "#  get key value using key name in get()\n",
    "print(person.get('telephone'))"
   ]
  },
  {
   "cell_type": "code",
   "execution_count": null,
   "id": "b7a02b8e",
   "metadata": {},
   "outputs": [
    {
     "name": "stdout",
     "output_type": "stream",
     "text": [
      "Canada\n",
      "USA\n"
     ]
    },
    {
     "ename": "",
     "evalue": "",
     "output_type": "error",
     "traceback": [
      "\u001b[1;31mThe Kernel crashed while executing code in the current cell or a previous cell. \n",
      "\u001b[1;31mPlease review the code in the cell(s) to identify a possible cause of the failure. \n",
      "\u001b[1;31mClick <a href='https://aka.ms/vscodeJupyterKernelCrash'>here</a> for more info. \n",
      "\u001b[1;31mView Jupyter <a href='command:jupyter.viewOutput'>log</a> for further details."
     ]
    }
   ],
   "source": [
    "person = {\"name\": \"Jessa\", \"country\": \"USA\"}\n",
    "\n",
    "# updating the country name\n",
    "person[\"country\"] = \"Canada\"\n",
    "# print the updated country\n",
    "print(person['country'])\n",
    "# Output 'Canada'\n",
    "\n",
    "# updating the country name using update() method\n",
    "person.update({\"country\": \"USA\"})\n",
    "# print the updated country\n",
    "print(person['country'])"
   ]
  }
 ],
 "metadata": {
  "kernelspec": {
   "display_name": "Python (Arewadatascience)",
   "language": "python",
   "name": "arewadatascience"
  },
  "language_info": {
   "codemirror_mode": {
    "name": "ipython",
    "version": 3
   },
   "file_extension": ".py",
   "mimetype": "text/x-python",
   "name": "python",
   "nbconvert_exporter": "python",
   "pygments_lexer": "ipython3",
   "version": "3.12.7"
  }
 },
 "nbformat": 4,
 "nbformat_minor": 5
}
