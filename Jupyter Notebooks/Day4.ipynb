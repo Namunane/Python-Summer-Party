{
 "cells": [
  {
   "cell_type": "code",
   "execution_count": 1,
   "id": "21d12c1f",
   "metadata": {},
   "outputs": [
    {
     "data": {
      "text/plain": [
       "'\\nProject Overview[User Interaction Insights]:\\nThis project supports Google by analyzing user engagement with search result pages\\n\\nGoal: To understand how different numbers of search results impact user interaction time\\n\\nThis will help optimize the current search results presentation strategy.\\n\\n'"
      ]
     },
     "execution_count": 1,
     "metadata": {},
     "output_type": "execute_result"
    }
   ],
   "source": [
    "'''\n",
    "Project Overview[User Interaction Insights]:\n",
    "This project supports Google by analyzing user engagement with search result pages\n",
    "\n",
    "Goal: To understand how different numbers of search results impact user interaction time\n",
    "\n",
    "This will help optimize the current search results presentation strategy.\n",
    "\n",
    "'''"
   ]
  },
  {
   "cell_type": "code",
   "execution_count": 1,
   "id": "e547ae59",
   "metadata": {},
   "outputs": [],
   "source": [
    "# Importing necessary libraries for analysis\n",
    "import pandas as pd\n",
    "import matplotlib.pyplot as plt\n",
    "import seaborn as sns\n",
    "from datetime import date"
   ]
  },
  {
   "cell_type": "code",
   "execution_count": 2,
   "id": "a47d7cd9",
   "metadata": {},
   "outputs": [
    {
     "name": "stdout",
     "output_type": "stream",
     "text": [
      "  user_id interaction_date  interaction_time  search_results_displayed\n",
      "0  user_1         7/5/2024              35.5                        10\n",
      "1  user_2        7/10/2024              22.3                         5\n",
      "2  user_1         7/5/2024              35.5                        10\n",
      "3  user_3         8/1/2024              48.0                        15\n",
      "4  user_4        8/15/2024               NaN                        20\n",
      "5  user_5         9/5/2024              60.2                        10\n",
      "6  user_6       10/10/2024              12.0                         5\n",
      "7  user_7       11/20/2024              80.0                        15\n",
      "8  user_8       12/31/2024              55.0                        20\n",
      "9  user_9        1/15/2025              75.5                        10\n",
      "['user_id', 'interaction_date', 'interaction_time', 'search_results_displayed']\n",
      "Number of rows and columns is: (58, 4)\n"
     ]
    }
   ],
   "source": [
    "# Getting the Dataset\n",
    "engagement_data = pd.read_csv(r'D:\\Data Journey\\Python-Summer-Party\\DataSets\\user_engagement_data.csv')\n",
    "\n",
    "# Display the first few rows to understand the data\n",
    "print(engagement_data .head(10))  # Shows the first 5 rows with columns\n",
    "print(list(engagement_data .columns))\n",
    "print('Number of rows and columns is:', engagement_data .shape)"
   ]
  },
  {
   "cell_type": "code",
   "execution_count": null,
   "id": "3519eb39",
   "metadata": {},
   "outputs": [
    {
     "name": "stdout",
     "output_type": "stream",
     "text": [
      "Number of duplicates in the data: 2\n"
     ]
    }
   ],
   "source": [
    "# Question One\n",
    "# Finding the number of duplicates\n",
    "num_of_duplicates = engagement_data.duplicated().sum()\n",
    "print(f'Number of duplicates in the data: {num_of_duplicates}')"
   ]
  },
  {
   "cell_type": "code",
   "execution_count": 7,
   "id": "d409ce5f",
   "metadata": {},
   "outputs": [],
   "source": [
    "# Question One\n",
    "# Dropping number of duplicates\n",
    "engagement_data_cleaned = engagement_data.drop_duplicates()\n",
    "engagement_data_cleaned.to_csv('engagement_data.csv', index = False)"
   ]
  },
  {
   "cell_type": "code",
   "execution_count": 11,
   "id": "15589204",
   "metadata": {},
   "outputs": [
    {
     "data": {
      "text/plain": [
       "search_results_displayed\n",
       "5     41.625000\n",
       "10    76.071429\n",
       "15    67.107143\n",
       "20    59.791667\n",
       "Name: interaction_time, dtype: float64"
      ]
     },
     "execution_count": 11,
     "metadata": {},
     "output_type": "execute_result"
    }
   ],
   "source": [
    "engagement_data_cleaned\n",
    "\n",
    "# Question Two\n",
    "# Grouping by number of search results displayed and then calculate the average interaction time for each group\n",
    "grouped_engagement_data = engagement_data_cleaned.groupby('search_results_displayed')['interaction_time'].mean()\n",
    "grouped_engagement_data "
   ]
  },
  {
   "cell_type": "code",
   "execution_count": null,
   "id": "ccbcb06d",
   "metadata": {},
   "outputs": [],
   "source": []
  }
 ],
 "metadata": {
  "kernelspec": {
   "display_name": "Python (Arewadatascience)",
   "language": "python",
   "name": "arewadatascience"
  },
  "language_info": {
   "codemirror_mode": {
    "name": "ipython",
    "version": 3
   },
   "file_extension": ".py",
   "mimetype": "text/x-python",
   "name": "python",
   "nbconvert_exporter": "python",
   "pygments_lexer": "ipython3",
   "version": "3.12.7"
  }
 },
 "nbformat": 4,
 "nbformat_minor": 5
}
