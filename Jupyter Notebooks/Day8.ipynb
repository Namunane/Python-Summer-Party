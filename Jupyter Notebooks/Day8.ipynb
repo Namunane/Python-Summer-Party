{
 "cells": [
  {
   "cell_type": "code",
   "execution_count": 1,
   "id": "0d265687",
   "metadata": {},
   "outputs": [
    {
     "data": {
      "text/plain": [
       "'\\nProject Overview[Payment Method Impact on Athleisure Online Sales]:\\n\\nGoals:To investigate how alternative payment methods might influence sales performance. \\nProject involves investigating the performance of celebrity product drops to inform future marketing strategies\\n\\n'"
      ]
     },
     "execution_count": 1,
     "metadata": {},
     "output_type": "execute_result"
    }
   ],
   "source": [
    "'''\n",
    "Project Overview[Payment Method Impact on Athleisure Online Sales]:\n",
    "\n",
    "Goals:To investigate how alternative payment methods might influence sales performance. \n",
    "Project involves investigating the performance of celebrity product drops to inform future marketing strategies\n",
    "\n",
    "'''"
   ]
  },
  {
   "cell_type": "code",
   "execution_count": 2,
   "id": "3a34b677",
   "metadata": {},
   "outputs": [],
   "source": [
    "# Importing necessary libraries for analysis\n",
    "import pandas as pd\n",
    "import numpy as np\n",
    "import matplotlib.pyplot as plt\n",
    "import seaborn as sns"
   ]
  },
  {
   "cell_type": "code",
   "execution_count": 4,
   "id": "76359b4e",
   "metadata": {},
   "outputs": [
    {
     "name": "stdout",
     "output_type": "stream",
     "text": [
      "   customer_id  order_value payment_method  transaction_id transaction_date\n",
      "0          201          250    credit_card               1        3/15/2025\n",
      "1          202           95     debit_card               2        3/20/2025\n",
      "2          203           75         paypal               3        3/25/2025\n",
      "3          204          310    credit_card               4       11/10/2024\n",
      "4          205           65         paypal               5        12/5/2024\n",
      "5          206          265    credit_card               6        7/15/2024\n",
      "6          207          290    credit_card               7        8/10/2024\n",
      "7          208          275    credit_card               8         9/5/2024\n",
      "8          209          280    credit_card               9       10/20/2024\n",
      "9          210           90     debit_card              10       10/25/2024\n",
      "['customer_id', 'order_value', 'payment_method', 'transaction_id', 'transaction_date']\n",
      "Number of rows and columns is: (47, 5)\n"
     ]
    }
   ],
   "source": [
    "# Getting the Dataset\n",
    "fct_transactions = pd.read_csv(r'D:\\Data Journey\\Python-Summer-Party\\DataSets\\fct_transactions.csv')\n",
    "\n",
    "# Display the first few rows to understand the data\n",
    "print(fct_transactions.head(10))  # Shows the first 5 rows with columns\n",
    "print(list(fct_transactions.columns))\n",
    "print('Number of rows and columns is:', fct_transactions.shape)"
   ]
  },
  {
   "cell_type": "code",
   "execution_count": 8,
   "id": "1e2804c1",
   "metadata": {},
   "outputs": [
    {
     "name": "stdout",
     "output_type": "stream",
     "text": [
      "37\n",
      "  payment_method  transaction_count\n",
      "0    credit_card                 25\n",
      "1     debit_card                  8\n",
      "2         paypal                  4\n"
     ]
    }
   ],
   "source": [
    "# Question One:\n",
    "# Between April 1st and June 30th, 2025, what is the count of transactions for each payment method? \n",
    "# 0. Dealing with timeframe\n",
    "# Convert sale_date to datetime\n",
    "fct_transactions['transaction_date'] = pd.to_datetime(fct_transactions['transaction_date'])\n",
    "# Extract month number\n",
    "fct_transactions['month'] = fct_transactions['transaction_date'].dt.month\n",
    "# Filter for months January to March\n",
    "fct_trxn_AprJun_2025 = fct_transactions[(fct_transactions['transaction_date'] >= '2025-04-01') & (fct_transactions['transaction_date'] <= '2025-06-30')]\n",
    "print(fct_trxn_AprJun_2025['transaction_id'].count())\n",
    "transactions_by_payment = fct_trxn_AprJun_2025.groupby('payment_method')['transaction_id'].count().reset_index(name='transaction_count')\n",
    "\n",
    "print(transactions_by_payment)"
   ]
  },
  {
   "cell_type": "code",
   "execution_count": null,
   "id": "c0d057c1",
   "metadata": {},
   "outputs": [
    {
     "name": "stdout",
     "output_type": "stream",
     "text": [
      "  payment_method  Average order value\n",
      "0    credit_card                281.6\n",
      "1     debit_card                 90.0\n",
      "2         paypal                 70.0\n"
     ]
    }
   ],
   "source": [
    "# Question Two\n",
    "# Between April 1st and June 30th, 2025, what is the average order value for each payment method?\n",
    "order_value_by_payment_method = fct_trxn_AprJun_2025.groupby('payment_method')['order_value'].mean().reset_index(name='Average order value')\n",
    "print(order_value_by_payment_method)"
   ]
  }
 ],
 "metadata": {
  "kernelspec": {
   "display_name": "Python (Arewadatascience)",
   "language": "python",
   "name": "arewadatascience"
  },
  "language_info": {
   "codemirror_mode": {
    "name": "ipython",
    "version": 3
   },
   "file_extension": ".py",
   "mimetype": "text/x-python",
   "name": "python",
   "nbconvert_exporter": "python",
   "pygments_lexer": "ipython3",
   "version": "3.12.7"
  }
 },
 "nbformat": 4,
 "nbformat_minor": 5
}
